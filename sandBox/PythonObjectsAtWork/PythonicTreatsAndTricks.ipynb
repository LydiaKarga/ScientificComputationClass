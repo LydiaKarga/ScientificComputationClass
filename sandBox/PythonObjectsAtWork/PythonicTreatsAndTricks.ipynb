{
 "cells": [
  {
   "cell_type": "markdown",
   "metadata": {},
   "source": [
    "# 🎃 Pythonic treats and tricks 🎃\n",
    "\n",
    "A few things to keep in mind to use python efficiently.\n",
    "\n",
    "# Treats 🍫\n",
    "\n",
    "## Simultaneous assignment\n",
    "\n",
    "Python can do two things at once."
   ]
  },
  {
   "cell_type": "code",
   "execution_count": 100,
   "metadata": {},
   "outputs": [],
   "source": [
    "a, b = \"hat\", 3"
   ]
  },
  {
   "cell_type": "code",
   "execution_count": 101,
   "metadata": {},
   "outputs": [
    {
     "name": "stdout",
     "output_type": "stream",
     "text": [
      "a is hat, b is 3\n"
     ]
    }
   ],
   "source": [
    "print(f\"a is {a}, b is {b}\")"
   ]
  },
  {
   "cell_type": "code",
   "execution_count": 102,
   "metadata": {},
   "outputs": [
    {
     "name": "stdout",
     "output_type": "stream",
     "text": [
      "a is 3, b is hat\n"
     ]
    }
   ],
   "source": [
    "b, a = a, b # simultaneous, so a is b at the same time b is a\n",
    "print(f\"a is {a}, b is {b}\")"
   ]
  },
  {
   "cell_type": "markdown",
   "metadata": {},
   "source": [
    "This does not work"
   ]
  },
  {
   "cell_type": "code",
   "execution_count": 95,
   "metadata": {},
   "outputs": [
    {
     "name": "stdout",
     "output_type": "stream",
     "text": [
      "a is hat, b is 3\n"
     ]
    }
   ],
   "source": [
    "a = \"hat\"; b = 3\n",
    "print(f\"a is {a}, b is {b}\")"
   ]
  },
  {
   "cell_type": "code",
   "execution_count": 96,
   "metadata": {},
   "outputs": [
    {
     "name": "stdout",
     "output_type": "stream",
     "text": [
      "a is 3, b is 3\n"
     ]
    }
   ],
   "source": [
    "a = b; b = a # not simultaneous, so switch gets short circuited\n",
    "print(f\"a is {a}, b is {b}\")"
   ]
  },
  {
   "cell_type": "markdown",
   "metadata": {},
   "source": [
    "## f-string\n",
    "\n",
    "Printing things out is really important for debugging and communicating what is going on in your code and project.\n",
    "\n",
    "`f strings` are great ways of printing out values held in memoery with textual context around them.\n",
    "\n",
    "The format is:\n",
    "\n",
    "`f\"Saying something using string {THIS IS AN EXPRESSION IN PYTHON} Saying more things`"
   ]
  },
  {
   "cell_type": "code",
   "execution_count": 97,
   "metadata": {},
   "outputs": [
    {
     "data": {
      "text/plain": [
       "'My name is Michael Colaresi, Hello'"
      ]
     },
     "execution_count": 97,
     "metadata": {},
     "output_type": "execute_result"
    }
   ],
   "source": [
    "first_name = \"Michael\"\n",
    "last_name = \"Colaresi\"\n",
    "f\"My name is {first_name} {last_name}, Hello\""
   ]
  },
  {
   "cell_type": "markdown",
   "metadata": {},
   "source": [
    "## upacking\n",
    "\n",
    "Related to this is unpacking. You have seen this in a few places, but Python is built to give you multiple outputs where you might want to use them separately.\n",
    "\n",
    "for example:"
   ]
  },
  {
   "cell_type": "code",
   "execution_count": 98,
   "metadata": {},
   "outputs": [
    {
     "name": "stdout",
     "output_type": "stream",
     "text": [
      "Please use vim\n",
      "Please do not use textEdit\n"
     ]
    }
   ],
   "source": [
    "my_dictionary = {\"use\": 'vim', \"do not use\": \"textEdit\"}\n",
    "for key, val in my_dictionary.items():\n",
    "    print(f\"Please {key} {val}\")"
   ]
  },
  {
   "cell_type": "markdown",
   "metadata": {},
   "source": [
    "We have upacked `key, val` from the `my_dictionary.items()`. The non-pythonic was is something like"
   ]
  },
  {
   "cell_type": "code",
   "execution_count": 99,
   "metadata": {},
   "outputs": [
    {
     "name": "stdout",
     "output_type": "stream",
     "text": [
      "Please use vim\n",
      "Please do not use textEdit\n"
     ]
    }
   ],
   "source": [
    "# do not do this unless you have to (and you probably do not have to)\n",
    "my_dictionary = {\"use\": 'vim', \"do not use\": \"textEdit\"}\n",
    "for key in my_dictionary.keys():\n",
    "    print(f\"Please {key} {my_dictionary[key]}\")"
   ]
  },
  {
   "cell_type": "markdown",
   "metadata": {},
   "source": [
    "## list comprehensions\n",
    "\n",
    "Being able to write one-line list comprehensions are extremely useful. To see why they are a treat, lets look at what one often has to do to transform a list of values into something else.\n",
    "\n",
    "Lets take the example of calculating the area of a rectangle from a list of tuples that hold `(length, width)` measurements.\n",
    "\n",
    "The first three ways we will do this are with a regular `for` loop, and then we will use `map` with a defined function and then with a `lambda` function."
   ]
  },
  {
   "cell_type": "code",
   "execution_count": 49,
   "metadata": {},
   "outputs": [
    {
     "data": {
      "text/plain": [
       "[2, 8, 32.76]"
      ]
     },
     "execution_count": 49,
     "metadata": {},
     "output_type": "execute_result"
    }
   ],
   "source": [
    "# for loop\n",
    "myMeasures = [(1,2), (2, 4), (5.2, 6.3)]\n",
    "rect_areas = []\n",
    "for i in myMeasures:\n",
    "    temp = i[0] * i[1]\n",
    "    rect_areas.append(temp)\n",
    "rect_areas"
   ]
  },
  {
   "cell_type": "markdown",
   "metadata": {},
   "source": [
    "This is not bad, but it a little long and uses a number of steps that might be combined."
   ]
  },
  {
   "cell_type": "code",
   "execution_count": 55,
   "metadata": {},
   "outputs": [
    {
     "name": "stdout",
     "output_type": "stream",
     "text": [
      "<map object at 0x107f4eac8>\n"
     ]
    }
   ],
   "source": [
    "# using map with a defined function\n",
    "from typing import Tuple\n",
    "myMeasures = [(1,2), (2, 4), (5.2, 6.3)]\n",
    "def calc_area(measure: Tuple[float, float]) -> float:\n",
    "    \"\"\"calc area of a rectangle\n",
    "    Args:\n",
    "      measure: length and width of rect\n",
    "    Returns:\n",
    "      area as a float\n",
    "    \"\"\"\n",
    "    return measure[0] * measure[1]\n",
    "temp = map(calc_area, myMeasures)\n",
    "print(temp)"
   ]
  },
  {
   "cell_type": "markdown",
   "metadata": {},
   "source": [
    "`map` pushes the elements of a list through a function. However, like a generator, maps are lazy evaluated, meaning they need to be called/iterated through in order to spit out their values (they `yield` but do not `return`).\n",
    "\n",
    "We need to `list()` them out or use another loop to get the values.\n",
    "\n",
    "There are definately some benefits of map (lazy evaluation can be great if you need it) and if you need a function, like `calc_area` over and over again, then you should define it."
   ]
  },
  {
   "cell_type": "code",
   "execution_count": 51,
   "metadata": {},
   "outputs": [],
   "source": [
    "rect_areas = list(temp)\n",
    "rect_areas"
   ]
  },
  {
   "cell_type": "markdown",
   "metadata": {},
   "source": [
    "There are times when you just want to do a one-off calculation and do not what the overhead of writing the function, docstring, type annotations etc. Then we can use a `lambda` functions, which is a third way.\n",
    "\n",
    "`lamdba` functions are just temporary functions that are disposible, so we do not save a name for them. "
   ]
  },
  {
   "cell_type": "code",
   "execution_count": 58,
   "metadata": {},
   "outputs": [],
   "source": [
    "myMeasures = [(1,2), (2, 4), (5.2, 6.3)]\n",
    "temp = map(lambda x: x[0] * x[1], myMeasures)\n",
    "rect_areas = list(temp)\n",
    "rect_areas"
   ]
  },
  {
   "cell_type": "markdown",
   "metadata": {},
   "source": [
    "This is a little shorter but we still have to `list` out the values. \n",
    "\n",
    "We could do:\n",
    "\n",
    "`rect_areas = list(map(lambda x: x[0] * x[1], myMeasures))`\n",
    "\n",
    "\n",
    "But that is not particularly readable and if you want the values right away (and not lazy evaluated) why are you using `map`? This suggests that the implementation is not \"Pythonic\" meaning the best, most explicit way to do something in Python.\n",
    "\n",
    "In this case, a list comprehension is the Pythonic way."
   ]
  },
  {
   "cell_type": "code",
   "execution_count": 61,
   "metadata": {},
   "outputs": [],
   "source": [
    "myMeasures = [(1,2), (2, 4), (5.2, 6.3)]\n",
    "rect_areas = [i[0] * i[1] for i in myMeasures]\n",
    "rect_areas"
   ]
  },
  {
   "cell_type": "markdown",
   "metadata": {},
   "source": [
    "You wrap a for loop inside list brackets `[...]` action on the left. \n",
    "\n",
    "This accomplishes the same thing as the other 3 implementations but is more readable, one line and directly does what you want unlike `map`.\n",
    "\n",
    "You can combine conditions and multiple for loops.\n",
    "For example, lets make a loop that only outputs values to a list `wide_rect` if the width is greater than 2.5."
   ]
  },
  {
   "cell_type": "code",
   "execution_count": 67,
   "metadata": {},
   "outputs": [
    {
     "data": {
      "text/plain": [
       "[8, 32.76]"
      ]
     },
     "execution_count": 67,
     "metadata": {},
     "output_type": "execute_result"
    }
   ],
   "source": [
    "myMeasures = [(1,2), (2, 4), (5.2, 6.3)]\n",
    "big_rect_area = [i[0] * i[1] for i in myMeasures if i[1] > 2.5]\n",
    "big_rect_area "
   ]
  },
  {
   "cell_type": "markdown",
   "metadata": {},
   "source": [
    "The order of the extra `for` statements and `if` statements is the same as you would write it out in regular syntax\n",
    "\n",
    "`[Do_Something for LOOP1 if COND1]`\n",
    "\n",
    "\n",
    "```python\n",
    "for LOOP1:\n",
    "    if COND1:\n",
    "        Do_Something\n",
    "```\n",
    "\n",
    "or another example:\n",
    "\n",
    "`[Do_Something for LOOP1 for LOOP2]`\n",
    "\n",
    "\n",
    "```python\n",
    "for LOOP1:\n",
    "    for LOOP2:\n",
    "        Do_Something\n",
    "```\n",
    "\n",
    "A simple example of the second is creating counter for various units from a list that holds tuples of the units id, start time and end time.\n",
    "\n",
    "We are just going to unpack the id, start, and end, loop over then, using range to get multiple values for each id as needed (that is the inner loop)."
   ]
  },
  {
   "cell_type": "code",
   "execution_count": 71,
   "metadata": {},
   "outputs": [
    {
     "data": {
      "text/plain": [
       "[('US', 1990),\n",
       " ('US', 1991),\n",
       " ('US', 1992),\n",
       " ('US', 1993),\n",
       " ('US', 1994),\n",
       " ('US', 1995),\n",
       " ('US', 1996),\n",
       " ('US', 1997),\n",
       " ('US', 1998),\n",
       " ('US', 1999),\n",
       " ('US', 2000),\n",
       " ('US', 2001),\n",
       " ('US', 2002),\n",
       " ('US', 2003),\n",
       " ('US', 2004),\n",
       " ('US', 2005),\n",
       " ('US', 2006),\n",
       " ('US', 2007),\n",
       " ('US', 2008),\n",
       " ('US', 2009),\n",
       " ('US', 2010),\n",
       " ('US', 2011),\n",
       " ('US', 2012),\n",
       " ('US', 2013),\n",
       " ('US', 2014),\n",
       " ('US', 2015),\n",
       " ('US', 2016),\n",
       " ('US', 2017),\n",
       " ('US', 2018),\n",
       " ('US', 2019),\n",
       " ('Peru', 1990),\n",
       " ('Peru', 1991),\n",
       " ('Peru', 1992),\n",
       " ('Peru', 1993),\n",
       " ('Peru', 1994),\n",
       " ('Peru', 1995),\n",
       " ('Peru', 1996),\n",
       " ('Peru', 1997),\n",
       " ('Peru', 1998),\n",
       " ('Peru', 1999),\n",
       " ('Peru', 2000),\n",
       " ('Peru', 2001),\n",
       " ('Peru', 2002),\n",
       " ('Peru', 2003),\n",
       " ('Peru', 2004),\n",
       " ('Peru', 2005),\n",
       " ('Peru', 2006),\n",
       " ('Peru', 2007),\n",
       " ('Peru', 2008),\n",
       " ('Peru', 2009),\n",
       " ('Peru', 2010),\n",
       " ('Peru', 2011),\n",
       " ('Peru', 2012),\n",
       " ('Peru', 2013),\n",
       " ('Peru', 2014),\n",
       " ('Peru', 2015),\n",
       " ('Peru', 2016),\n",
       " ('Peru', 2017),\n",
       " ('Japan', 1985),\n",
       " ('Japan', 1986),\n",
       " ('Japan', 1987),\n",
       " ('Japan', 1988),\n",
       " ('Japan', 1989),\n",
       " ('Japan', 1990),\n",
       " ('Japan', 1991),\n",
       " ('Japan', 1992),\n",
       " ('Japan', 1993),\n",
       " ('Japan', 1994),\n",
       " ('Japan', 1995),\n",
       " ('Japan', 1996),\n",
       " ('Japan', 1997),\n",
       " ('Japan', 1998),\n",
       " ('Japan', 1999),\n",
       " ('Japan', 2000),\n",
       " ('Japan', 2001),\n",
       " ('Japan', 2002),\n",
       " ('Japan', 2003),\n",
       " ('Japan', 2004),\n",
       " ('Japan', 2005),\n",
       " ('Japan', 2006),\n",
       " ('Japan', 2007),\n",
       " ('Japan', 2008),\n",
       " ('Japan', 2009),\n",
       " ('Japan', 2010),\n",
       " ('Japan', 2011),\n",
       " ('Japan', 2012),\n",
       " ('Japan', 2013),\n",
       " ('Japan', 2014),\n",
       " ('Japan', 2015),\n",
       " ('Japan', 2016)]"
      ]
     },
     "execution_count": 71,
     "metadata": {},
     "output_type": "execute_result"
    }
   ],
   "source": [
    "my_data = [(\"US\", 1990, 2020), (\"Peru\", 1990, 2018), (\"Japan\", 1985, 2017)]\n",
    "my_long_data = [(id, year) for id, start, end in my_data for year in range(start, end)]\n",
    "my_long_data"
   ]
  },
  {
   "cell_type": "markdown",
   "metadata": {},
   "source": [
    "# tricks 👻\n",
    "\n",
    "# Copy that (or not)\n",
    "\n",
    "I have emphasized that assignment of names to objects is like defining a pointer or an arrow from the string/name to the object.\n",
    "\n",
    "The tendency is for people to think about assignment as copying.\n",
    "\n",
    "You might assume that `a = 2` means that `2` is copied to `a`; but instead there is a `2` in memory that the name `a` is pointing torwards.\n",
    "\n",
    "Normally this does not matter."
   ]
  },
  {
   "cell_type": "code",
   "execution_count": 199,
   "metadata": {},
   "outputs": [],
   "source": [
    "a = 2\n",
    "b = a\n",
    "a = 5"
   ]
  },
  {
   "cell_type": "code",
   "execution_count": 200,
   "metadata": {},
   "outputs": [
    {
     "name": "stdout",
     "output_type": "stream",
     "text": [
      "a is 5 and b is 2\n"
     ]
    }
   ],
   "source": [
    "print(f\"a is {a} and b is {b}\")"
   ]
  },
  {
   "cell_type": "markdown",
   "metadata": {},
   "source": [
    "The way to think about this is:\n",
    "```\n",
    "   a -> 2\n",
    "b--^\n",
    "```\n",
    "\n",
    "In Python, we get:\n",
    "```\n",
    "a -> 2\n",
    "b ---^\n",
    "``` \n",
    "\n",
    "Now, because `2` is a simple object (an int, not a compound object like a list), when we change `a` to `5`, we do not change the object `2`, we move the arrow to the fixed object `5`.\n",
    "\n",
    "```\n",
    "a -> 5\n",
    "b -> 2\n",
    "```\n",
    "\n",
    "However, when we are dealing with **collections** like lists, Python does not copy values from lists; and when we change the object that multiple arrows are pointing to, the object itself changes.\n",
    "\n",
    "Lets look at an example:\n"
   ]
  },
  {
   "cell_type": "code",
   "execution_count": 29,
   "metadata": {},
   "outputs": [
    {
     "name": "stdout",
     "output_type": "stream",
     "text": [
      "[0, 1, 2, 'hat', 4] [0, 1, 2, 'hat', 4]\n"
     ]
    }
   ],
   "source": [
    "x = [0, 1, 2, 3, 4] # a list is a compound object\n",
    "y = x\n",
    "x[3] = \"hat\"\n",
    "print(x, y)"
   ]
  },
  {
   "cell_type": "markdown",
   "metadata": {},
   "source": [
    "As you can see even though we only changed `x`, `y` changed too.\n",
    "\n",
    "Lets think through this. When we first defined `x` we had:\n",
    "\n",
    "```\n",
    "           0  1  2  3  4  \n",
    "x --> list(^, ^, ^, ^, ^)\n",
    "```\n",
    "\n",
    "Then we added `y`\n",
    "\n",
    "```\n",
    "           0  1  2  3  4  \n",
    "x --> list(^, ^, ^, ^, ^)\n",
    "y------^\n",
    "```\n",
    "\n",
    "So both `x` and `y` are pointing to a compound object (the list). That specific instance of the list object is pointing to the simple objects `0`, `1`, etc.\n",
    "\n",
    "When we change `x[3] = \"hat\"` we are changing the compound object in memory.\n",
    "\n",
    "```\n",
    "           0  1  2  \"hat  4  \n",
    "x --> list(^, ^, ^,   ^,    ^)\n",
    "y------^\n",
    "```\n",
    "\n",
    "`x[3]` says change the pointer in the third index of the object that `x` is pointing to.\n",
    "\n",
    "Since `y` is pointing to the same instance of the list object, then `y[3]` also changes.\n",
    "\n",
    "Because we *can* change compound objects like lists, but not the number `2` or simple object. Another way to think about this is that mutable objects get changes, and thus those changes propagate to the names pointing to them. \n",
    "\n",
    "Immutable objects do not have this structure because immutable objects cannot change, so a re-assignment points to a different object. "
   ]
  },
  {
   "cell_type": "code",
   "execution_count": 30,
   "metadata": {},
   "outputs": [
    {
     "name": "stdout",
     "output_type": "stream",
     "text": [
      "(0, 1, 2, 'hat', 4) (0, 1, 2, 3, 4)\n"
     ]
    }
   ],
   "source": [
    "x = (0, 1, 2, 3, 4)\n",
    "y = x\n",
    "x = (0, 1, 2, \"hat\", 4)\n",
    "print(x, y)"
   ]
  },
  {
   "cell_type": "markdown",
   "metadata": {},
   "source": [
    "In this case we have \n",
    "\n",
    "\n",
    "```\n",
    "            0  1  2  3  4  \n",
    "x --> tuple(^, ^, ^, ^, ^)\n",
    "y------^\n",
    "```\n",
    "\n",
    "Tuples are immutable.\n",
    "\n",
    "Notice that I do not re-assign `x[3]` because that would produce an error."
   ]
  },
  {
   "cell_type": "code",
   "execution_count": 34,
   "metadata": {},
   "outputs": [
    {
     "name": "stdout",
     "output_type": "stream",
     "text": [
      "You got a TypeError, I told you so\n"
     ]
    }
   ],
   "source": [
    "x = (0, 1, 2, 3, 4)\n",
    "# the next 4 lines are an example of error-catching\n",
    "try:\n",
    "    x[3] = \"hat\"\n",
    "except TypeError:\n",
    "    print(\"You got a TypeError, I told you so\")"
   ]
  },
  {
   "cell_type": "markdown",
   "metadata": {},
   "source": [
    "Instead we created a new tuple instance with `(0, 1, 2, \"hat\", 4)` and point the name `x` at that new object.\n",
    "\n",
    "This gives us:\n",
    "\n",
    "```\n",
    "            0  1  2  \"hat\"  4  \n",
    "x --> tuple(^, ^, ^,   ^,   ^)\n",
    "\n",
    "            0  1  2  3  4  \n",
    "y --> tuple(^, ^, ^, ^, ^)\n",
    "```"
   ]
  },
  {
   "cell_type": "markdown",
   "metadata": {},
   "source": [
    "However, we can copy objects if we want, instead of pointing to mutuable objects that may change.\n",
    "\n",
    "## Shallow copy and deepcopy\n",
    "\n",
    "If we want to copy the object, we can `import copy` or `from copy import copy`\n",
    "\n",
    "and then if we \n",
    "```\n",
    "x = [0, 1, 2, 3, 4]\n",
    "y = copy(x)` \n",
    "```\n",
    "\n",
    "we will have:\n",
    "\n",
    "```\n",
    "           0  1  2  3  4\n",
    "x --> list(^, ^, ^, ^, ^)\n",
    "\n",
    "           0  1  2  3  4\n",
    "y --> list(^, ^, ^, ^, ^)\n",
    "```\n",
    "\n",
    "Now we can make changes to `x` and they will not effect `y` because they are pointing to different objects in memory."
   ]
  },
  {
   "cell_type": "code",
   "execution_count": 103,
   "metadata": {},
   "outputs": [
    {
     "name": "stdout",
     "output_type": "stream",
     "text": [
      "[0, 1, 2, 'hat', 4] [0, 1, 2, 3, 4]\n"
     ]
    }
   ],
   "source": [
    "from copy import copy\n",
    "x = [0, 1, 2, 3, 4]\n",
    "y = copy(x)\n",
    "x[3] = \"hat\"\n",
    "print(x, y)"
   ]
  },
  {
   "cell_type": "markdown",
   "metadata": {},
   "source": [
    "Notice that the change in `x[3]` did not effect `y` because what we did was:\n",
    "\n",
    "```\n",
    "           0  1  2  \"hat\"  4\n",
    "x --> list(^, ^, ^,   ^,   ^)\n",
    "\n",
    "           0  1  2  3  4\n",
    "y --> list(^, ^, ^, ^, ^)\n",
    "```\n",
    "\n",
    "Again, because we copied `x`, `x` and `y` point to different list instances. \n"
   ]
  },
  {
   "cell_type": "markdown",
   "metadata": {},
   "source": [
    "However, there is one more complication.\n",
    "\n",
    "Copy only works one level down into compound objects.\n",
    "\n",
    "Another way of thinking about this is that the list objects themselves might point a shared compound object.\n",
    "\n",
    "This happens, for example, when you have lists of lists, or lists of lists of lists of ...\n",
    "\n",
    "Take this example:\n"
   ]
  },
  {
   "cell_type": "code",
   "execution_count": 104,
   "metadata": {},
   "outputs": [
    {
     "name": "stdout",
     "output_type": "stream",
     "text": [
      "[0, 1, 2, ['hat', 3], 4] [0, 1, 2, ['hat', 3], 4]\n"
     ]
    }
   ],
   "source": [
    "x = [0, 1, 2, [3,3], 4]\n",
    "y = copy(x)\n",
    "x[3][0] = \"hat\"\n",
    "print(x, y)"
   ]
  },
  {
   "cell_type": "markdown",
   "metadata": {},
   "source": [
    "**copy** from the copy module copies the object, but not what the object is pointing to.\n",
    "\n",
    "\n",
    "We start with\n",
    "\n",
    "```\n",
    "                          3  3  \n",
    "           0  1  2   list(^, ^)  4\n",
    "x --> list(^, ^, ^,   ^,         ^)\n",
    "\n",
    "```\n",
    "\n",
    "Then when we `copy(x)`we get \n",
    "\n",
    "```\n",
    "                     \n",
    "                           3  3         \n",
    "           0  1  2   >list(^, ^)  4    \n",
    "x --> list(^, ^, ^,  | ^,         ^)   \n",
    "                     |                \n",
    "                     | \n",
    "           0  1  2   |          4\n",
    "y --> list(^, ^, ^,  ^,         ^)\n",
    "\n",
    "\n",
    "```\n",
    "\n",
    "So when we change the object that the third element of `x` is pointing to with `x[3][0] = \"hat`, we get:\n",
    "\n",
    "\n",
    "\n",
    "```\n",
    "                     \n",
    "                           \"hat\"   3         \n",
    "           0  1  2   >list(  ^,    ^)  4    \n",
    "x --> list(^, ^, ^,  | ^,         ^)   \n",
    "                     |                \n",
    "                     | \n",
    "           0  1  2   |          4\n",
    "y --> list(^, ^, ^,  ^,         ^)\n",
    "\n",
    "\n",
    "```\n",
    "\n",
    "Which changes the object that both `x` and `y` are pointing to.\n",
    "\n",
    "This might seem fiddly, but this behavior does have really important performance gains for large data and memory intensive operations.\n",
    "\n",
    "\n",
    "If we want to **recursively** copy objects held in objects (that might be held in objects), then we can use `deepcopy`."
   ]
  },
  {
   "cell_type": "code",
   "execution_count": 21,
   "metadata": {},
   "outputs": [
    {
     "name": "stdout",
     "output_type": "stream",
     "text": [
      "[0, 1, 2, ['hat', 3], 4] [0, 1, 2, [3, 3], 4]\n"
     ]
    }
   ],
   "source": [
    "from copy import deepcopy\n",
    "x = [0, 1, 2, [3,3], 4]\n",
    "y = deepcopy(x)\n",
    "x[3][0] = \"hat\"\n",
    "print(x, y)"
   ]
  },
  {
   "cell_type": "markdown",
   "metadata": {},
   "source": [
    "This created a full/deep copy of `x`. \n",
    "\n",
    "So we have \n",
    "\n",
    "\n",
    "```\n",
    "                          3  3  \n",
    "           0  1  2   list(^, ^)  4\n",
    "x --> list(^, ^, ^,   ^,         ^)\n",
    "\n",
    "\n",
    "                          3  3  \n",
    "           0  1  2   list(^, ^)  4\n",
    "y --> list(^, ^, ^,   ^,         ^)\n",
    "\n",
    "```\n",
    "\n",
    "Notice that there are now 4 different list object instances. Two in the out layer, and 2 in the inner layers.\n",
    "\n",
    "Therefore, a change in the inner-list of `x` does not propagate to `y` because they are pointing in different directions.\n",
    "\n",
    "\n",
    "```\n",
    "                          \"hat\"  3  \n",
    "           0  1  2   list(  ^,   ^)  4\n",
    "x --> list(^, ^, ^,   ^,         ^)\n",
    "\n",
    "\n",
    "                          3  3  \n",
    "           0  1  2   list(^, ^)  4\n",
    "y --> list(^, ^, ^,   ^,         ^)\n",
    "\n",
    "```"
   ]
  },
  {
   "cell_type": "markdown",
   "metadata": {},
   "source": [
    "## conditional floats\n",
    "\n",
    "This is a trick in every coding language because of how information is stored on computers.\n",
    "\n",
    "But as a reminder. \n",
    "\n",
    "Be careful about using equality with floats"
   ]
  },
  {
   "cell_type": "code",
   "execution_count": 194,
   "metadata": {},
   "outputs": [
    {
     "name": "stdout",
     "output_type": "stream",
     "text": [
      "But you are in the matrix, bwahahh ahh\n"
     ]
    },
    {
     "data": {
      "text/plain": [
       "0.9999999999999999"
      ]
     },
     "execution_count": 194,
     "metadata": {},
     "output_type": "execute_result"
    }
   ],
   "source": [
    "x = 0.1 + 0.1 +  0.1 + 0.1 +  0.1 + 0.1 +  0.1 + 0.1 +  0.1 + 0.1\n",
    "if x == 1.0:\n",
    "    print(\"This is true in the real world\")\n",
    "else:\n",
    "    print(\"But you are in the matrix, bwahahh ahh\")\n",
    "x"
   ]
  },
  {
   "cell_type": "markdown",
   "metadata": {},
   "source": [
    "Numpy as a useful function, `np.isclose` that can be used to test whether two floats are close enough to be considered equal."
   ]
  },
  {
   "cell_type": "code",
   "execution_count": 196,
   "metadata": {},
   "outputs": [
    {
     "name": "stdout",
     "output_type": "stream",
     "text": [
      "I know I am in the matrix, and I can handle it\n"
     ]
    }
   ],
   "source": [
    "import numpy as np\n",
    "x = 0.1 + 0.1 +  0.1 + 0.1 +  0.1 + 0.1 +  0.1 + 0.1 +  0.1 + 0.1\n",
    "if np.isclose(x, 1.0):\n",
    "    print(\"I know I am in the matrix, and I can handle it\")\n",
    "else:\n",
    "    print(\"drats\")"
   ]
  },
  {
   "cell_type": "markdown",
   "metadata": {},
   "source": [
    "Generally, this kind of thing happens after a great deal of computation, so it useful to get in the habit."
   ]
  },
  {
   "cell_type": "code",
   "execution_count": null,
   "metadata": {},
   "outputs": [],
   "source": []
  }
 ],
 "metadata": {
  "kernelspec": {
   "display_name": "Python 3",
   "language": "python",
   "name": "python3"
  },
  "language_info": {
   "codemirror_mode": {
    "name": "ipython",
    "version": 3
   },
   "file_extension": ".py",
   "mimetype": "text/x-python",
   "name": "python",
   "nbconvert_exporter": "python",
   "pygments_lexer": "ipython3",
   "version": "3.7.3"
  }
 },
 "nbformat": 4,
 "nbformat_minor": 4
}
