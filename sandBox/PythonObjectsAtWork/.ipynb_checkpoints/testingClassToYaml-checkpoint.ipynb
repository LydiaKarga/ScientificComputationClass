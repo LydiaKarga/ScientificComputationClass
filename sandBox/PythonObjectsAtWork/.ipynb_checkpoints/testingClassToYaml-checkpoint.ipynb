{
 "cells": [
  {
   "cell_type": "code",
   "execution_count": 3,
   "metadata": {},
   "outputs": [],
   "source": [
    "import yaml"
   ]
  },
  {
   "cell_type": "code",
   "execution_count": 87,
   "metadata": {},
   "outputs": [],
   "source": [
    "class test:\n",
    "    def __init__(self, id, location):\n",
    "        self.id = id\n",
    "        self.location = location\n",
    "        \n",
    "    def __repr__(self):\n",
    "        return f\"test(id={self.id}, location={self.location})\"\n",
    "    \n",
    "    def write(self, file=\"my.yaml\"):\n",
    "        with open(file, \"a\") as f:\n",
    "            f.write(\"--- \")\n",
    "            yaml.dump(self, f)"
   ]
  },
  {
   "cell_type": "code",
   "execution_count": 88,
   "metadata": {},
   "outputs": [],
   "source": [
    "mytest = test(id=2, location=3)"
   ]
  },
  {
   "cell_type": "code",
   "execution_count": 89,
   "metadata": {},
   "outputs": [],
   "source": [
    "mytest.write()"
   ]
  },
  {
   "cell_type": "code",
   "execution_count": 90,
   "metadata": {},
   "outputs": [],
   "source": [
    "def read_sentence_obj_from_yaml(file):\n",
    "    with open(file, \"r\") as f:\n",
    "        docs = []\n",
    "        stream = yaml.load_all(f, Loader=yaml.Loader)\n",
    "        for doc in stream:\n",
    "            docs.append(doc)\n",
    "        return(docs)"
   ]
  },
  {
   "cell_type": "code",
   "execution_count": 91,
   "metadata": {},
   "outputs": [],
   "source": [
    "docs = read_sentence_obj_from_yaml(\"my.yaml\")"
   ]
  },
  {
   "cell_type": "code",
   "execution_count": 92,
   "metadata": {},
   "outputs": [
    {
     "data": {
      "text/plain": [
       "[test(id=2, location=3),\n",
       " test(id=2, location=3),\n",
       " test(id=2, location=3),\n",
       " test(id=2, location=3),\n",
       " test(id=2, location=3),\n",
       " test(id=2, location=3),\n",
       " test(id=2, location=3),\n",
       " test(id=2, location=3)]"
      ]
     },
     "execution_count": 92,
     "metadata": {},
     "output_type": "execute_result"
    }
   ],
   "source": [
    "docs"
   ]
  },
  {
   "cell_type": "code",
   "execution_count": null,
   "metadata": {},
   "outputs": [],
   "source": []
  },
  {
   "cell_type": "code",
   "execution_count": null,
   "metadata": {},
   "outputs": [],
   "source": []
  }
 ],
 "metadata": {
  "kernelspec": {
   "display_name": "Python 3",
   "language": "python",
   "name": "python3"
  },
  "language_info": {
   "codemirror_mode": {
    "name": "ipython",
    "version": 3
   },
   "file_extension": ".py",
   "mimetype": "text/x-python",
   "name": "python",
   "nbconvert_exporter": "python",
   "pygments_lexer": "ipython3",
   "version": "3.7.3"
  }
 },
 "nbformat": 4,
 "nbformat_minor": 4
}
