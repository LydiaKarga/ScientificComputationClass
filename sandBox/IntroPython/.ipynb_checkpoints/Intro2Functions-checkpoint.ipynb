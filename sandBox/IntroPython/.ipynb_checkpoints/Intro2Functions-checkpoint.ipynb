{
 "cells": [
  {
   "cell_type": "markdown",
   "metadata": {},
   "source": [
    "# My first functon\n",
    "\n",
    "Functions are just objects that take optional input and process the information in the inputs to create either a side effect or an output.\n",
    "\n",
    "A side effect means that you are changing an existing object (this is known as changing something `in pace`.\n",
    "\n",
    "An output is something new that is returned to global name space to assign a name to.\n",
    "\n",
    "Note that when we define a function, we are just creating a `callable` object, we are not actually calling the function yet to use it.\n",
    "\n",
    "A `def` statement improves the imagination of your interpreter by teaching it a new trick that it can remember."
   ]
  },
  {
   "cell_type": "markdown",
   "metadata": {},
   "source": [
    "In Python, functions follow this syntax\n",
    "\n",
    "```python\n",
    "def name_of_function(arg1, arg2, arg3, ...):\n",
    "    '''docstring to explain what you are doing and assumptions'''\n",
    "    steps_to_produce_output_or_side_effects\n",
    "    return something_or_skip_this\n",
    "\n",
    "```"
   ]
  },
  {
   "cell_type": "markdown",
   "metadata": {},
   "source": [
    "Lets try a simple one."
   ]
  },
  {
   "cell_type": "code",
   "execution_count": 212,
   "metadata": {},
   "outputs": [],
   "source": [
    "def add2(x):\n",
    "    '''add 2 to x, x is float or int'''\n",
    "    return x+2"
   ]
  },
  {
   "cell_type": "markdown",
   "metadata": {},
   "source": [
    "The cell above defined the function `add2`. We included a minimal doc string to explain what the function is doing and what is expected of the user of the function.\n",
    "\n",
    "Now lets call the function `add2`"
   ]
  },
  {
   "cell_type": "code",
   "execution_count": 213,
   "metadata": {},
   "outputs": [
    {
     "data": {
      "text/plain": [
       "6"
      ]
     },
     "execution_count": 213,
     "metadata": {},
     "output_type": "execute_result"
    }
   ],
   "source": [
    "add2(4)"
   ]
  },
  {
   "cell_type": "code",
   "execution_count": 214,
   "metadata": {},
   "outputs": [
    {
     "data": {
      "text/plain": [
       "9.3"
      ]
     },
     "execution_count": 214,
     "metadata": {},
     "output_type": "execute_result"
    }
   ],
   "source": [
    "add2(7.3)"
   ]
  },
  {
   "cell_type": "markdown",
   "metadata": {},
   "source": [
    "It seems to be working pretty well so far.\n",
    "\n",
    "Now lets assign the returned value from a specific call to `add2` a name. "
   ]
  },
  {
   "cell_type": "code",
   "execution_count": 215,
   "metadata": {},
   "outputs": [
    {
     "data": {
      "text/plain": [
       "8.3"
      ]
     },
     "execution_count": 215,
     "metadata": {},
     "output_type": "execute_result"
    }
   ],
   "source": [
    "myResult = add2(6.3)\n",
    "myResult"
   ]
  },
  {
   "cell_type": "markdown",
   "metadata": {},
   "source": [
    "Now we can use the value returned by `add2(6.3)` again later"
   ]
  },
  {
   "cell_type": "markdown",
   "metadata": {},
   "source": [
    "Because this is a pretty simple function, it is easy to see what is intended.\n",
    "\n",
    "But part of the job of writing functions is to ensure they will not produce mis-understandings.\n",
    "\n",
    "Later we will be adding tests with `assert` and type annotation to ensure that our code will do what it is supposed to.\n",
    "\n",
    "Python itself helps.\n",
    "\n",
    "Imagine if we try:"
   ]
  },
  {
   "cell_type": "code",
   "execution_count": 216,
   "metadata": {},
   "outputs": [
    {
     "ename": "TypeError",
     "evalue": "can only concatenate str (not \"int\") to str",
     "output_type": "error",
     "traceback": [
      "\u001b[0;31m---------------------------------------------------------------------------\u001b[0m",
      "\u001b[0;31mTypeError\u001b[0m                                 Traceback (most recent call last)",
      "\u001b[0;32m<ipython-input-216-afed35f0aaf3>\u001b[0m in \u001b[0;36m<module>\u001b[0;34m\u001b[0m\n\u001b[0;32m----> 1\u001b[0;31m \u001b[0mmyBadResult\u001b[0m \u001b[0;34m=\u001b[0m \u001b[0madd2\u001b[0m\u001b[0;34m(\u001b[0m\u001b[0;34m\"vanilla\"\u001b[0m\u001b[0;34m)\u001b[0m\u001b[0;34m\u001b[0m\u001b[0;34m\u001b[0m\u001b[0m\n\u001b[0m",
      "\u001b[0;32m<ipython-input-212-7fbeb3f16643>\u001b[0m in \u001b[0;36madd2\u001b[0;34m(x)\u001b[0m\n\u001b[1;32m      1\u001b[0m \u001b[0;32mdef\u001b[0m \u001b[0madd2\u001b[0m\u001b[0;34m(\u001b[0m\u001b[0mx\u001b[0m\u001b[0;34m)\u001b[0m\u001b[0;34m:\u001b[0m\u001b[0;34m\u001b[0m\u001b[0;34m\u001b[0m\u001b[0m\n\u001b[1;32m      2\u001b[0m     \u001b[0;34m'''add 2 to x, x is float or int'''\u001b[0m\u001b[0;34m\u001b[0m\u001b[0;34m\u001b[0m\u001b[0m\n\u001b[0;32m----> 3\u001b[0;31m     \u001b[0;32mreturn\u001b[0m \u001b[0mx\u001b[0m\u001b[0;34m+\u001b[0m\u001b[0;36m2\u001b[0m\u001b[0;34m\u001b[0m\u001b[0;34m\u001b[0m\u001b[0m\n\u001b[0m",
      "\u001b[0;31mTypeError\u001b[0m: can only concatenate str (not \"int\") to str"
     ]
    }
   ],
   "source": [
    "myBadResult = add2(\"vanilla\")"
   ]
  },
  {
   "cell_type": "markdown",
   "metadata": {},
   "source": [
    "We get a error, especically a `TypeError` that tells us what went wrong.\n",
    "\n",
    "We could have gotten:"
   ]
  },
  {
   "cell_type": "code",
   "execution_count": 217,
   "metadata": {},
   "outputs": [
    {
     "data": {
      "text/plain": [
       "'vanilla2'"
      ]
     },
     "execution_count": 217,
     "metadata": {},
     "output_type": "execute_result"
    }
   ],
   "source": [
    "\"vanilla\" + \"2\""
   ]
  },
  {
   "cell_type": "markdown",
   "metadata": {},
   "source": [
    "Which uses string concatenation. However, the + opperator is defined based on the types of the varianes on each side and does not support mixed operations.\n",
    "\n",
    "We can head off this error by adding a `try:` and `except` to our simple function"
   ]
  },
  {
   "cell_type": "code",
   "execution_count": 218,
   "metadata": {},
   "outputs": [],
   "source": [
    "def add2(x):\n",
    "    try:\n",
    "        return x+2\n",
    "    except TypeError:\n",
    "        print(f\"You got a TypeError because you passed in {type(x)}\")"
   ]
  },
  {
   "cell_type": "code",
   "execution_count": 219,
   "metadata": {},
   "outputs": [
    {
     "name": "stdout",
     "output_type": "stream",
     "text": [
      "You got a TypeError because you passed in <class 'str'>\n"
     ]
    }
   ],
   "source": [
    "add2(\"vannila\")"
   ]
  },
  {
   "cell_type": "markdown",
   "metadata": {},
   "source": [
    "`try` and `except` are really useful. `try` just means, attempt to run the code below (that is indented).\n",
    "\n",
    "`except ErrorTypeHere` says that if when you tried to run the above code, but got an error of type `ErrorType` then run the code below me (that is indentened)"
   ]
  },
  {
   "cell_type": "markdown",
   "metadata": {},
   "source": [
    "# More complicated example"
   ]
  },
  {
   "cell_type": "code",
   "execution_count": 220,
   "metadata": {},
   "outputs": [],
   "source": [
    "def smoothie(s1, s2):\n",
    "    glass = \"\"\n",
    "    for i, j in zip(s1,s2[::-1]):\n",
    "        glass += j + i\n",
    "    return glass"
   ]
  },
  {
   "cell_type": "code",
   "execution_count": 183,
   "metadata": {},
   "outputs": [
    {
     "data": {
      "text/plain": [
       "'sbeainrarnea'"
      ]
     },
     "execution_count": 183,
     "metadata": {},
     "output_type": "execute_result"
    }
   ],
   "source": [
    "smoothie(\"banana\", \"blueberries\")"
   ]
  },
  {
   "cell_type": "markdown",
   "metadata": {},
   "source": [
    "First lets describe the different tricks.\n",
    "\n",
    "## Trick 1 is string concatenation:"
   ]
  },
  {
   "cell_type": "code",
   "execution_count": 184,
   "metadata": {},
   "outputs": [
    {
     "data": {
      "text/plain": [
       "'a tribe called quest'"
      ]
     },
     "execution_count": 184,
     "metadata": {},
     "output_type": "execute_result"
    }
   ],
   "source": [
    "\"a \" + \"tribe \" + \"called \" + \"quest\""
   ]
  },
  {
   "cell_type": "markdown",
   "metadata": {},
   "source": [
    "So `i + j` just squashes the string that `i` is pointing to and string that `j` is pointing to together"
   ]
  },
  {
   "cell_type": "markdown",
   "metadata": {},
   "source": [
    "## Trick 2 is reversing a string (this works for a list and tuple too):"
   ]
  },
  {
   "cell_type": "code",
   "execution_count": 185,
   "metadata": {},
   "outputs": [
    {
     "data": {
      "text/plain": [
       "'ebirt'"
      ]
     },
     "execution_count": 185,
     "metadata": {},
     "output_type": "execute_result"
    }
   ],
   "source": [
    "\"tribe\"[::-1]"
   ]
  },
  {
   "cell_type": "markdown",
   "metadata": {},
   "source": [
    "This is just slicing with a flip.\n",
    "\n",
    "The slicing syntax goes\n",
    "\n",
    "`object[beginSlice:EndSlice:Step]`\n",
    "\n",
    "Lets try it"
   ]
  },
  {
   "cell_type": "code",
   "execution_count": 152,
   "metadata": {},
   "outputs": [
    {
     "data": {
      "text/plain": [
       "'tri'"
      ]
     },
     "execution_count": 152,
     "metadata": {},
     "output_type": "execute_result"
    }
   ],
   "source": [
    "\"tribe\"[0:3:1]"
   ]
  },
  {
   "cell_type": "markdown",
   "metadata": {},
   "source": [
    "Lets icrement by more than 1"
   ]
  },
  {
   "cell_type": "code",
   "execution_count": 153,
   "metadata": {},
   "outputs": [
    {
     "data": {
      "text/plain": [
       "'ti'"
      ]
     },
     "execution_count": 153,
     "metadata": {},
     "output_type": "execute_result"
    }
   ],
   "source": [
    "#grab |t|r|i|b|\n",
    "#step through every other 1\n",
    "\"tribe\"[0:3:2]"
   ]
  },
  {
   "cell_type": "markdown",
   "metadata": {},
   "source": [
    "This is the same as:"
   ]
  },
  {
   "cell_type": "code",
   "execution_count": 154,
   "metadata": {},
   "outputs": [
    {
     "data": {
      "text/plain": [
       "'ti'"
      ]
     },
     "execution_count": 154,
     "metadata": {},
     "output_type": "execute_result"
    }
   ],
   "source": [
    "test = \"tribe\"\n",
    "test[0:3:2]"
   ]
  },
  {
   "cell_type": "markdown",
   "metadata": {},
   "source": [
    "There is nothing special about incrementing backwards"
   ]
  },
  {
   "cell_type": "code",
   "execution_count": 155,
   "metadata": {},
   "outputs": [
    {
     "data": {
      "text/plain": [
       "'ebirt'"
      ]
     },
     "execution_count": 155,
     "metadata": {},
     "output_type": "execute_result"
    }
   ],
   "source": [
    "# can also slice from right to left\n",
    "# note that you need step to be negative\n",
    "test[-1:-6:-1]"
   ]
  },
  {
   "cell_type": "code",
   "execution_count": 156,
   "metadata": {},
   "outputs": [
    {
     "data": {
      "text/plain": [
       "''"
      ]
     },
     "execution_count": 156,
     "metadata": {},
     "output_type": "execute_result"
    }
   ],
   "source": [
    "#will return a blank because there is nothing to the right\n",
    "# of the last slicing point --> the beginnning \n",
    "test[-1:-6:1]"
   ]
  },
  {
   "cell_type": "markdown",
   "metadata": {},
   "source": [
    "We can make this a little easier because there are defaults.\n",
    "\n",
    "- default start is the beginning (left most slicing point)\n",
    "- default end is the last (rightmost slicing point)\n",
    "- default step is 1 (move right 1 step)\n"
   ]
  },
  {
   "cell_type": "code",
   "execution_count": 157,
   "metadata": {},
   "outputs": [
    {
     "data": {
      "text/plain": [
       "'tribe'"
      ]
     },
     "execution_count": 157,
     "metadata": {},
     "output_type": "execute_result"
    }
   ],
   "source": [
    "test[::]"
   ]
  },
  {
   "cell_type": "code",
   "execution_count": 158,
   "metadata": {},
   "outputs": [
    {
     "data": {
      "text/plain": [
       "'tie'"
      ]
     },
     "execution_count": 158,
     "metadata": {},
     "output_type": "execute_result"
    }
   ],
   "source": [
    "test[::2]"
   ]
  },
  {
   "cell_type": "code",
   "execution_count": 159,
   "metadata": {},
   "outputs": [
    {
     "data": {
      "text/plain": [
       "'tri'"
      ]
     },
     "execution_count": 159,
     "metadata": {},
     "output_type": "execute_result"
    }
   ],
   "source": [
    "test[:3:]"
   ]
  },
  {
   "cell_type": "markdown",
   "metadata": {},
   "source": [
    "Putting it all together\n",
    "\n",
    "You know know that to reverse a string use the default start, the default stop, and step through to the left (-1)"
   ]
  },
  {
   "cell_type": "code",
   "execution_count": 160,
   "metadata": {},
   "outputs": [
    {
     "data": {
      "text/plain": [
       "'ebirt'"
      ]
     },
     "execution_count": 160,
     "metadata": {},
     "output_type": "execute_result"
    }
   ],
   "source": [
    "test[::-1]"
   ]
  },
  {
   "cell_type": "markdown",
   "metadata": {},
   "source": [
    "So `s2[::-1])` just reverses the second argument"
   ]
  },
  {
   "cell_type": "markdown",
   "metadata": {},
   "source": [
    "# Trick 3 is zippy"
   ]
  },
  {
   "cell_type": "markdown",
   "metadata": {},
   "source": [
    "This is extremely useful. When you have two lists or strings you can \"zip\" them together, item by item.\n",
    "It is easiest to see"
   ]
  },
  {
   "cell_type": "code",
   "execution_count": 186,
   "metadata": {},
   "outputs": [
    {
     "name": "stdout",
     "output_type": "stream",
     "text": [
      "c, d\n",
      "a, o\n",
      "t, g\n"
     ]
    }
   ],
   "source": [
    "s1 = \"cat\"\n",
    "s2 = \"dog\"\n",
    "for i, j in zip(s1, s2):\n",
    "    print(f\"{i}, {j}\")"
   ]
  },
  {
   "cell_type": "markdown",
   "metadata": {},
   "source": [
    "Note that zip creates an object that you iterate over. It does not copy the elements of its arguments. It points to them\n",
    "\n",
    "zip, like other iterators, does actions when needed. Not before hand"
   ]
  },
  {
   "cell_type": "code",
   "execution_count": 187,
   "metadata": {},
   "outputs": [
    {
     "data": {
      "text/plain": [
       "<zip at 0x110f0f748>"
      ]
     },
     "execution_count": 187,
     "metadata": {},
     "output_type": "execute_result"
    }
   ],
   "source": [
    "myZip = zip(s1, s2)\n",
    "myZip"
   ]
  },
  {
   "cell_type": "markdown",
   "metadata": {},
   "source": [
    "When we print `myZip` here we just get the address of the memory where the object lives\n",
    "\n",
    "We can force the iterator to run by making the output a list"
   ]
  },
  {
   "cell_type": "code",
   "execution_count": 163,
   "metadata": {},
   "outputs": [
    {
     "data": {
      "text/plain": [
       "[('c', 'd'), ('a', 'o'), ('t', 'g')]"
      ]
     },
     "execution_count": 163,
     "metadata": {},
     "output_type": "execute_result"
    }
   ],
   "source": [
    "list(myZip)"
   ]
  },
  {
   "cell_type": "markdown",
   "metadata": {},
   "source": [
    "We get paired tuples of items.\n",
    "The items do not have to be of equal length, but not that the shortest\n",
    "member being zipped will define the lenght of the zipped object. "
   ]
  },
  {
   "cell_type": "code",
   "execution_count": 164,
   "metadata": {},
   "outputs": [
    {
     "data": {
      "text/plain": [
       "[('d', 'n'), ('e', 'a'), (' ', 's')]"
      ]
     },
     "execution_count": 164,
     "metadata": {},
     "output_type": "execute_result"
    }
   ],
   "source": [
    "s3 = \"de la soul\"\n",
    "s4 = \"nas\"\n",
    "list(zip(s3, s4))"
   ]
  },
  {
   "cell_type": "markdown",
   "metadata": {},
   "source": [
    "so `zip(s1, s2[::-1])` zips together element by element the first string argument (`s1`) and the reverse of these second string argument (`s2` is the send string argument, and that is reversed by `s2[::-1]`)  "
   ]
  },
  {
   "cell_type": "markdown",
   "metadata": {},
   "source": [
    "## Trick 4 is unpacking"
   ]
  },
  {
   "cell_type": "markdown",
   "metadata": {},
   "source": [
    "Loops are an important part of Python. Unlike other languages where loops are super inefficient (I am looking at you `R`), Python views loops as readable and thus worthy of having been optimized to run relatively quickly.\n",
    "\n",
    "Lets take a simple for loop:"
   ]
  },
  {
   "cell_type": "code",
   "execution_count": 165,
   "metadata": {},
   "outputs": [
    {
     "name": "stdout",
     "output_type": "stream",
     "text": [
      "0\n",
      "1\n",
      "2\n",
      "3\n"
     ]
    }
   ],
   "source": [
    "for i in range(4):\n",
    "    print(i)"
   ]
  },
  {
   "cell_type": "markdown",
   "metadata": {},
   "source": [
    "Here we are looping over 4 values from 0 to 3. `range` is an iterator, like zip, it only coughs up its output when needed.\n",
    "\n",
    "The temporary variable `i` here is set in sequence from `range()`.\n",
    "\n",
    "This is how most for loops look give or take.\n",
    "\n",
    "Python allows multiple values, however to be set at the same time."
   ]
  },
  {
   "cell_type": "code",
   "execution_count": 166,
   "metadata": {},
   "outputs": [
    {
     "name": "stdout",
     "output_type": "stream",
     "text": [
      "t1 is 1, and t2 is 2\n"
     ]
    }
   ],
   "source": [
    "t1, t2 = (1, 2)\n",
    "print(f\"t1 is {t1}, and t2 is {t2}\")"
   ]
  },
  {
   "cell_type": "markdown",
   "metadata": {},
   "source": [
    "This works for lists too:"
   ]
  },
  {
   "cell_type": "code",
   "execution_count": 189,
   "metadata": {},
   "outputs": [
    {
     "data": {
      "text/plain": [
       "2"
      ]
     },
     "execution_count": 189,
     "metadata": {},
     "output_type": "execute_result"
    }
   ],
   "source": [
    "t1, t2 = [1, 2]\n",
    "t2"
   ]
  },
  {
   "cell_type": "markdown",
   "metadata": {},
   "source": [
    "And also for extracting key, value pairs from a dictionary, when we call the .items() method"
   ]
  },
  {
   "cell_type": "code",
   "execution_count": 198,
   "metadata": {},
   "outputs": [
    {
     "name": "stdout",
     "output_type": "stream",
     "text": [
      "the key is test, and the value is [1, 2, 3]\n"
     ]
    }
   ],
   "source": [
    "for key, val in {\"test\": [1, 2, 3]}.items():\n",
    "    print(f\"the key is {key}, and the value is {val}\")"
   ]
  },
  {
   "cell_type": "markdown",
   "metadata": {},
   "source": [
    "Since `zip()` gives us a paired tuple, we can **unpack** that pair"
   ]
  },
  {
   "cell_type": "code",
   "execution_count": 199,
   "metadata": {},
   "outputs": [
    {
     "name": "stdout",
     "output_type": "stream",
     "text": [
      "i is z, and j is v\n",
      "i is s, and j is i\n",
      "i is h, and j is m\n"
     ]
    }
   ],
   "source": [
    "for i, j in zip(\"zsh\", \"vim\"):\n",
    "    print(f\"i is {i}, and j is {j}\")"
   ]
  },
  {
   "cell_type": "markdown",
   "metadata": {},
   "source": [
    "So the code:\n",
    "```python\n",
    "or i, j in zip(s1,s2[::-1]):\n",
    "        glass += j + i\n",
    "```\n",
    "\n",
    "is simply upacking the values that were `zip`ped together values of `s1`, and `s2` reversed into `i` and `j`.\n",
    "\n",
    "`j + i` then does the string concatenation\n"
   ]
  },
  {
   "cell_type": "markdown",
   "metadata": {},
   "source": [
    "## Trick 5 is assignment and increment in one step\n",
    "\n",
    "This one is relatively straight forward\n",
    "\n",
    "We often want to increment a counter or add something\n",
    "\n",
    "The long way to do this is:"
   ]
  },
  {
   "cell_type": "code",
   "execution_count": 203,
   "metadata": {},
   "outputs": [
    {
     "name": "stdout",
     "output_type": "stream",
     "text": [
      "4\n",
      "6\n"
     ]
    }
   ],
   "source": [
    "temp = 2\n",
    "temp = temp + 2\n",
    "print(temp)\n",
    "temp = temp + 2\n",
    "print(temp)"
   ]
  },
  {
   "cell_type": "markdown",
   "metadata": {},
   "source": [
    "Note that there is a recursive assignment `temp = temp` along with an increment added `+ 2`\n",
    "\n",
    "We can shorten this in Python with:"
   ]
  },
  {
   "cell_type": "code",
   "execution_count": 205,
   "metadata": {},
   "outputs": [
    {
     "name": "stdout",
     "output_type": "stream",
     "text": [
      "4\n",
      "6\n"
     ]
    }
   ],
   "source": [
    "temp = 2\n",
    "temp += 2\n",
    "print(temp)\n",
    "temp += 2\n",
    "print(temp)"
   ]
  },
  {
   "cell_type": "markdown",
   "metadata": {},
   "source": [
    "This also works with string concatenation:"
   ]
  },
  {
   "cell_type": "code",
   "execution_count": 207,
   "metadata": {},
   "outputs": [
    {
     "name": "stdout",
     "output_type": "stream",
     "text": [
      "bana\n",
      "banana\n"
     ]
    }
   ],
   "source": [
    "fruit = \"ba\"\n",
    "fruit += \"na\"\n",
    "print(fruit)\n",
    "fruit += \"na\"\n",
    "print(fruit)"
   ]
  },
  {
   "cell_type": "markdown",
   "metadata": {},
   "source": [
    "Putting string concatenation with this increment operator for strings gives you something like:"
   ]
  },
  {
   "cell_type": "code",
   "execution_count": 211,
   "metadata": {},
   "outputs": [
    {
     "data": {
      "text/plain": [
       "'blueberries'"
      ]
     },
     "execution_count": 211,
     "metadata": {},
     "output_type": "execute_result"
    }
   ],
   "source": [
    "fruit = \"blue\"\n",
    "fruit += \"berr\" + \"ies\"\n",
    "fruit"
   ]
  },
  {
   "cell_type": "markdown",
   "metadata": {},
   "source": [
    "So\n",
    "\n",
    "```python\n",
    "    glass = \"\"\n",
    "    for i, j in zip(s1,s2[::-1]):\n",
    "        glass += j + i\n",
    "    return glass\n",
    "\n",
    "```\n",
    "\n",
    "- Instantiates the name `glass` that points to the empty string.\n",
    "\n",
    "- We reverse the second argument string `s2` (trick 1) and zip it together with the first argument string `s` (trick 2)\n",
    "\n",
    "- unpack the values of the zip (now they are paired, trick 4) into `i` and `j`\n",
    "\n",
    "- concatenate `j` and `i` with string concatenation `+`\n",
    "\n",
    "- use the assignment and increment operator `+=` in one step to add `j` and `i` to `glass` (trick 5), again with string concatenation"
   ]
  },
  {
   "cell_type": "markdown",
   "metadata": {},
   "source": [
    "# Cleaning up a function\n",
    "\n",
    "Now that we understand some basics about functions we should think about how to make them useful.\n",
    "\n",
    "Usefulness is not simply getting the output we want.\n",
    "\n",
    "It is also avoiding output we do **not** want.\n",
    "\n",
    "Docstrings help with this, but so do assertions with `assert` and type hints with `import typing`\n",
    "\n",
    "## adding a docstring for smoothie()\n",
    "\n",
    "Our smoothie function has no docstring. So lets add one"
   ]
  },
  {
   "cell_type": "code",
   "execution_count": 239,
   "metadata": {},
   "outputs": [],
   "source": [
    "def smoothie(s1, s2):\n",
    "    '''function to blend two strings together \n",
    "    to make a a string smoothie\n",
    "    Args:\n",
    "        s1 (str): first string to blend\n",
    "        s2 (str): second string to blend\n",
    "    Returns:\n",
    "        str: a blended version of s1 and s2\n",
    "    '''\n",
    "    glass = \"\"\n",
    "    for i, j in zip(s1,s2[::-1]):\n",
    "        glass += j + i\n",
    "    return glass"
   ]
  },
  {
   "cell_type": "markdown",
   "metadata": {},
   "source": [
    "This docstring follows the google style, see [here](https://sphinxcontrib-napoleon.readthedocs.io/en/latest/example_google.html) for a short example. There are others (including Colaresi-style where every line had to rhyme that for some reason never took off)\n",
    "\n",
    "Google style is pretty good, it follows the patters\n",
    "\n",
    "```python\n",
    "'''Description what I am doing\n",
    "Args:\n",
    "    arg1 (type): description\n",
    "    arg2 (type): description\n",
    "  ...\n",
    " Returns:\n",
    "    type: what is returned\n",
    " Raises:\n",
    "     ErrorType: why it is raised\n",
    "'''\n",
    "\n",
    "```"
   ]
  },
  {
   "cell_type": "markdown",
   "metadata": {},
   "source": [
    "## adding tests\n",
    "\n",
    "We also make assumptions when we code, especially about the arguments.\n",
    "\n",
    "To avoid code from being used for purposes that it was not designed and will give problematic results, tests can be embedded\n",
    "\n",
    "The smoothie example expects strings so we test for these"
   ]
  },
  {
   "cell_type": "code",
   "execution_count": 241,
   "metadata": {},
   "outputs": [],
   "source": [
    "def smoothie(s1, s2):\n",
    "    '''function to blend two strings together \n",
    "    to make a a string smoothie\n",
    "    Args:\n",
    "        s1 (str): first string to blend\n",
    "        s2 (str): second string to blend\n",
    "    Returns:\n",
    "        str: a blended version of s1 and s2\n",
    "    '''\n",
    "    assert isinstance(s1, str), \"s1 needs to be a str\"\n",
    "    assert isinstance(s2, str), \"s2 needs to be a str\" \n",
    "    glass = \"\"\n",
    "    for i, j in zip(s1,s2[::-1]):\n",
    "        glass += j + i\n",
    "    return glass"
   ]
  },
  {
   "cell_type": "markdown",
   "metadata": {},
   "source": [
    "Now if we try to feed in non-strings, we get a useful message guiding a coder back toward the expected behavior and uses"
   ]
  },
  {
   "cell_type": "code",
   "execution_count": 242,
   "metadata": {},
   "outputs": [
    {
     "ename": "AssertionError",
     "evalue": "s1 needs to be a str",
     "output_type": "error",
     "traceback": [
      "\u001b[0;31m---------------------------------------------------------------------------\u001b[0m",
      "\u001b[0;31mAssertionError\u001b[0m                            Traceback (most recent call last)",
      "\u001b[0;32m<ipython-input-242-035f6492e635>\u001b[0m in \u001b[0;36m<module>\u001b[0;34m\u001b[0m\n\u001b[0;32m----> 1\u001b[0;31m \u001b[0msmoothie\u001b[0m\u001b[0;34m(\u001b[0m\u001b[0;36m2\u001b[0m\u001b[0;34m,\u001b[0m \u001b[0;36m4\u001b[0m\u001b[0;34m)\u001b[0m\u001b[0;34m\u001b[0m\u001b[0;34m\u001b[0m\u001b[0m\n\u001b[0m",
      "\u001b[0;32m<ipython-input-241-bcfaee68f3aa>\u001b[0m in \u001b[0;36msmoothie\u001b[0;34m(s1, s2)\u001b[0m\n\u001b[1;32m      8\u001b[0m         \u001b[0mstr\u001b[0m\u001b[0;34m:\u001b[0m \u001b[0ma\u001b[0m \u001b[0mblended\u001b[0m \u001b[0mversion\u001b[0m \u001b[0mof\u001b[0m \u001b[0ms1\u001b[0m \u001b[0;32mand\u001b[0m \u001b[0ms2\u001b[0m\u001b[0;34m\u001b[0m\u001b[0;34m\u001b[0m\u001b[0m\n\u001b[1;32m      9\u001b[0m     '''\n\u001b[0;32m---> 10\u001b[0;31m     \u001b[0;32massert\u001b[0m \u001b[0misinstance\u001b[0m\u001b[0;34m(\u001b[0m\u001b[0ms1\u001b[0m\u001b[0;34m,\u001b[0m \u001b[0mstr\u001b[0m\u001b[0;34m)\u001b[0m\u001b[0;34m,\u001b[0m \u001b[0;34m\"s1 needs to be a str\"\u001b[0m\u001b[0;34m\u001b[0m\u001b[0;34m\u001b[0m\u001b[0m\n\u001b[0m\u001b[1;32m     11\u001b[0m     \u001b[0;32massert\u001b[0m \u001b[0misinstance\u001b[0m\u001b[0;34m(\u001b[0m\u001b[0ms2\u001b[0m\u001b[0;34m,\u001b[0m \u001b[0mstr\u001b[0m\u001b[0;34m)\u001b[0m\u001b[0;34m,\u001b[0m \u001b[0;34m\"s2 needs to be a str\"\u001b[0m\u001b[0;34m\u001b[0m\u001b[0;34m\u001b[0m\u001b[0m\n\u001b[1;32m     12\u001b[0m     \u001b[0mglass\u001b[0m \u001b[0;34m=\u001b[0m \u001b[0;34m\"\"\u001b[0m\u001b[0;34m\u001b[0m\u001b[0;34m\u001b[0m\u001b[0m\n",
      "\u001b[0;31mAssertionError\u001b[0m: s1 needs to be a str"
     ]
    }
   ],
   "source": [
    "smoothie(2, 4)"
   ]
  },
  {
   "cell_type": "code",
   "execution_count": 243,
   "metadata": {},
   "outputs": [
    {
     "ename": "AssertionError",
     "evalue": "s1 needs to be a str",
     "output_type": "error",
     "traceback": [
      "\u001b[0;31m---------------------------------------------------------------------------\u001b[0m",
      "\u001b[0;31mAssertionError\u001b[0m                            Traceback (most recent call last)",
      "\u001b[0;32m<ipython-input-243-b5564d31a139>\u001b[0m in \u001b[0;36m<module>\u001b[0;34m\u001b[0m\n\u001b[0;32m----> 1\u001b[0;31m \u001b[0msmoothie\u001b[0m\u001b[0;34m(\u001b[0m\u001b[0;34m[\u001b[0m\u001b[0;34m\"banana\"\u001b[0m\u001b[0;34m]\u001b[0m\u001b[0;34m,\u001b[0m \u001b[0;34m[\u001b[0m\u001b[0;34m\"blueberry\"\u001b[0m\u001b[0;34m]\u001b[0m\u001b[0;34m)\u001b[0m\u001b[0;34m\u001b[0m\u001b[0;34m\u001b[0m\u001b[0m\n\u001b[0m",
      "\u001b[0;32m<ipython-input-241-bcfaee68f3aa>\u001b[0m in \u001b[0;36msmoothie\u001b[0;34m(s1, s2)\u001b[0m\n\u001b[1;32m      8\u001b[0m         \u001b[0mstr\u001b[0m\u001b[0;34m:\u001b[0m \u001b[0ma\u001b[0m \u001b[0mblended\u001b[0m \u001b[0mversion\u001b[0m \u001b[0mof\u001b[0m \u001b[0ms1\u001b[0m \u001b[0;32mand\u001b[0m \u001b[0ms2\u001b[0m\u001b[0;34m\u001b[0m\u001b[0;34m\u001b[0m\u001b[0m\n\u001b[1;32m      9\u001b[0m     '''\n\u001b[0;32m---> 10\u001b[0;31m     \u001b[0;32massert\u001b[0m \u001b[0misinstance\u001b[0m\u001b[0;34m(\u001b[0m\u001b[0ms1\u001b[0m\u001b[0;34m,\u001b[0m \u001b[0mstr\u001b[0m\u001b[0;34m)\u001b[0m\u001b[0;34m,\u001b[0m \u001b[0;34m\"s1 needs to be a str\"\u001b[0m\u001b[0;34m\u001b[0m\u001b[0;34m\u001b[0m\u001b[0m\n\u001b[0m\u001b[1;32m     11\u001b[0m     \u001b[0;32massert\u001b[0m \u001b[0misinstance\u001b[0m\u001b[0;34m(\u001b[0m\u001b[0ms2\u001b[0m\u001b[0;34m,\u001b[0m \u001b[0mstr\u001b[0m\u001b[0;34m)\u001b[0m\u001b[0;34m,\u001b[0m \u001b[0;34m\"s2 needs to be a str\"\u001b[0m\u001b[0;34m\u001b[0m\u001b[0;34m\u001b[0m\u001b[0m\n\u001b[1;32m     12\u001b[0m     \u001b[0mglass\u001b[0m \u001b[0;34m=\u001b[0m \u001b[0;34m\"\"\u001b[0m\u001b[0;34m\u001b[0m\u001b[0;34m\u001b[0m\u001b[0m\n",
      "\u001b[0;31mAssertionError\u001b[0m: s1 needs to be a str"
     ]
    }
   ],
   "source": [
    "smoothie([\"banana\"], [\"blueberry\"])"
   ]
  },
  {
   "cell_type": "markdown",
   "metadata": {},
   "source": [
    "## Adding type hinting\n",
    "\n",
    "The DSFS book leans heavily on type hinting and has convinced me that it is an extremely important part of replicable code.\n",
    "\n",
    "Python is dynamically typed. Which means we can do something like:"
   ]
  },
  {
   "cell_type": "code",
   "execution_count": 244,
   "metadata": {},
   "outputs": [
    {
     "data": {
      "text/plain": [
       "'me'"
      ]
     },
     "execution_count": 244,
     "metadata": {},
     "output_type": "execute_result"
    }
   ],
   "source": [
    "a = 2\n",
    "a = \"me\"\n",
    "a"
   ]
  },
  {
   "cell_type": "markdown",
   "metadata": {},
   "source": [
    "And not get an error. This is not try in statically typed languages like C++.\n",
    "\n",
    "The problem is that in the middle of a function we might change the type of a variable accidentally. \n",
    "\n",
    "Take this example:"
   ]
  },
  {
   "cell_type": "code",
   "execution_count": 250,
   "metadata": {},
   "outputs": [
    {
     "name": "stdout",
     "output_type": "stream",
     "text": [
      "bssainrabnua\n"
     ]
    },
    {
     "data": {
      "text/plain": [
       "15"
      ]
     },
     "execution_count": 250,
     "metadata": {},
     "output_type": "execute_result"
    }
   ],
   "source": [
    "def badSmoothie(s1, s2):\n",
    "    glass = \"\"\n",
    "    glass = s1[0] + s2[-1]\n",
    "    for i, j in zip(s1[1::],s2[::-2]):\n",
    "        glass += j + i\n",
    "    return glass\n",
    "print(badSmoothie(\"banana\", \"blueberries\"))\n",
    "badSmoothie([2, 3], [4,5])"
   ]
  },
  {
   "cell_type": "markdown",
   "metadata": {},
   "source": [
    "Here we expected strings and the function basically works when given a string, but when fed ints, it does not through an error and does some weirdness.\n",
    "\n",
    "This underlines an important principle of coding, computers do what you tell them to do, not what you expect them to do.\n",
    "\n",
    "While our testing with `assert` could catch this and should... this implies that a user of the function has to run the function, get the error and figure out what went wrong.\n",
    "\n",
    "We can build our assuption more explicitly into the code by defining WHAT type an argument should be.\n",
    "\n",
    "Starting with Python 3.5, the typing module is available to provide **type hints** to functions and variable definitions. \n",
    "\n",
    "These can then be read by a tool like mypy to check that our code (or any users code) is utilizing the function effectively. This can be done before runtime.\n",
    "\n",
    "Type hints are described [here](https://docs.python.org/3/library/typing.html)."
   ]
  },
  {
   "cell_type": "markdown",
   "metadata": {},
   "source": [
    "We first need to import typing"
   ]
  },
  {
   "cell_type": "code",
   "execution_count": 251,
   "metadata": {},
   "outputs": [],
   "source": [
    "import typing"
   ]
  },
  {
   "cell_type": "code",
   "execution_count": 254,
   "metadata": {},
   "outputs": [],
   "source": [
    "def smoothie(s1: str, s2: str) -> str:\n",
    "    '''function to blend two strings together \n",
    "    to make a a string smoothie\n",
    "    Args:\n",
    "        s1 (str): first string to blend\n",
    "        s2 (str): second string to blend\n",
    "    Returns:\n",
    "        str: a blended version of s1 and s2\n",
    "    '''\n",
    "    assert isinstance(s1, str), \"s1 needs to be a str\"\n",
    "    assert isinstance(s2, str), \"s2 needs to be a str\" \n",
    "    glass: str = \"\"\n",
    "    for i, j in zip(s1,s2[::-1]):\n",
    "        glass += j + i\n",
    "    return glass"
   ]
  },
  {
   "cell_type": "markdown",
   "metadata": {},
   "source": [
    "There are two places type hints are added here:\n",
    "\n",
    "`def smoothie(s1: str, s2: str) -> str:`\n",
    "\n",
    "where the arguments `s1` and `s2` are annotated with type `: str` and the output of the function is annotated with `-> str`\n",
    "\n",
    "\n",
    "and \n",
    "\n",
    "`glass: str = \"\"`\n",
    "\n",
    "where the variable `glass` is annotated with the type `: str`\n",
    "\n",
    "\n"
   ]
  },
  {
   "cell_type": "markdown",
   "metadata": {},
   "source": [
    "Within the notebook, this typing is simply ignored.\n",
    "\n",
    "It is used by a **type checker** such as `mypy`. \n",
    "\n",
    "But even in the notebook it helps you, your team, and other coders know what you intended very quickly.\n",
    "\n",
    "A useful workflow is to explore and work on functions in a notebook like this, then export functions to a stand alone file (also called a module). For example, I have created `smoothie.py`.\n",
    "\n",
    "Then you would run `smoothie.py` through mypy with `mypy smoothie.py` at the command line with your zsh or bash shell"
   ]
  },
  {
   "cell_type": "code",
   "execution_count": null,
   "metadata": {},
   "outputs": [],
   "source": []
  }
 ],
 "metadata": {
  "kernelspec": {
   "display_name": "Python 3",
   "language": "python",
   "name": "python3"
  },
  "language_info": {
   "codemirror_mode": {
    "name": "ipython",
    "version": 3
   },
   "file_extension": ".py",
   "mimetype": "text/x-python",
   "name": "python",
   "nbconvert_exporter": "python",
   "pygments_lexer": "ipython3",
   "version": "3.7.3"
  }
 },
 "nbformat": 4,
 "nbformat_minor": 4
}
