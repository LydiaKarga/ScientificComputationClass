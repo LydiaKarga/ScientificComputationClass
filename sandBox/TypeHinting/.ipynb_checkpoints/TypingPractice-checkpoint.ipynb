{
 "cells": [
  {
   "cell_type": "markdown",
   "metadata": {},
   "source": [
    "Use this notebook to explore typing\n",
    "\n",
    "You can uncomment the cell magics to write out the cells as files, and then run them through mypy\n",
    "\n",
    "\n",
    "A few of the cells are taken from the keynote presentation on type hints so you can see how they work.\n",
    "\n",
    "I have also added a section "
   ]
  },
  {
   "cell_type": "code",
   "execution_count": 37,
   "metadata": {},
   "outputs": [
    {
     "name": "stdout",
     "output_type": "stream",
     "text": [
      "Overwriting ThisIsWrong.py\n"
     ]
    }
   ],
   "source": [
    "#%%writefile ThisIsWrong.py\n",
    "my_data = [\"1\", \"2\"]\n",
    "def processor(num1, num2):\n",
    "    \"\"\"add numbers\"\"\"\n",
    "    temp = num1 + num2\n",
    "    return float(temp)\n",
    "print(processor(my_data[0], my_data[1]))"
   ]
  },
  {
   "cell_type": "code",
   "execution_count": 38,
   "metadata": {},
   "outputs": [
    {
     "name": "stdout",
     "output_type": "stream",
     "text": [
      "Overwriting ThisIsWrongButMyPyWillHelp.py\n"
     ]
    }
   ],
   "source": [
    "#%%writefile ThisIsWrongButMyPyWillHelp.py\n",
    "my_data = [\"1\", \"2\"]\n",
    "def processor(num1:float, num2:float)->float:\n",
    "    \"\"\"add number of words in sentences\"\"\"\n",
    "    temp: float = num1 + num2\n",
    "    return temp\n",
    "print(processor(my_data[0], my_data[1]))"
   ]
  },
  {
   "cell_type": "code",
   "execution_count": 42,
   "metadata": {},
   "outputs": [
    {
     "name": "stdout",
     "output_type": "stream",
     "text": [
      "Overwriting ThisIsRight.py\n"
     ]
    }
   ],
   "source": [
    "#%%writefile ThisIsRight.py\n",
    "from typing import Union\n",
    "\n",
    "\n",
    "my_data = [\"1\", \"2\"]\n",
    "def processor(num1:Union[str, float], num2:Union[str, float])->Union[float, None]:\n",
    "    \"\"\"add number of words in sentences\"\"\"\n",
    "    try: \n",
    "        num1, num2 = float(num1), float(num2)\n",
    "    except ValueError:\n",
    "        print(\"If a string is given, must pertain to a float\")\n",
    "        return None        \n",
    "    temp: float = num1 + num2\n",
    "    return temp\n",
    "print(processor(my_data[0], my_data[1]))"
   ]
  },
  {
   "cell_type": "code",
   "execution_count": 46,
   "metadata": {},
   "outputs": [],
   "source": [
    "from typing import List, Dict, Tuple\n",
    "myDict: Dict[str, int] = {'apples': 10, 'oranges': 2}"
   ]
  },
  {
   "cell_type": "code",
   "execution_count": 53,
   "metadata": {},
   "outputs": [],
   "source": [
    "myList: List[float] = [2.23, 2.1, 2.456, 3.14]\n",
    "myList2: List[Union[float, str, List[float]]] = [45.21, 'blue', [2.2, 4]]"
   ]
  },
  {
   "cell_type": "code",
   "execution_count": 113,
   "metadata": {},
   "outputs": [
    {
     "data": {
      "text/plain": [
       "4"
      ]
     },
     "execution_count": 113,
     "metadata": {},
     "output_type": "execute_result"
    }
   ],
   "source": [
    "def add_it(arg1: float, arg2: float) -> float:\n",
    "    return arg1 + arg2\n",
    "add_it(2, 2)"
   ]
  },
  {
   "cell_type": "code",
   "execution_count": 68,
   "metadata": {},
   "outputs": [
    {
     "name": "stdout",
     "output_type": "stream",
     "text": [
      "we win!\n"
     ]
    }
   ],
   "source": [
    "import sys\n",
    "LESS_POINTS: bool\n",
    "def assign_bool(arg: str) -> bool:\n",
    "    assert arg in ['True', 'False'], 'WRONG VALUES' \n",
    "    if arg=='True':\n",
    "        return True\n",
    "    elif arg=='False':\n",
    "        return False\n",
    "LESS_POINTS = assign_bool('False')\n",
    "if not LESS_POINTS:\n",
    "    print('we win!')"
   ]
  },
  {
   "cell_type": "code",
   "execution_count": 69,
   "metadata": {},
   "outputs": [],
   "source": [
    "LESS_POINTS = 'False'\n",
    "if not LESS_POINTS:\n",
    "    print(\"we win!\")"
   ]
  },
  {
   "cell_type": "markdown",
   "metadata": {},
   "source": [
    "Now you try\n",
    "\n",
    "There are three functions that need type annotations below. Add the annotation, uncomment the cell magic to output the cell as the script `TryThisOut.py` and run it through mypy at the command line. You can find directions to install mypy in the DSFS book and [here]([https://mypy.readthedocs.io/en/latest/getting_started.html)."
   ]
  },
  {
   "cell_type": "code",
   "execution_count": 123,
   "metadata": {},
   "outputs": [
    {
     "data": {
      "text/plain": [
       "[0.2227676004445481,\n",
       " -0.09965918967256102,\n",
       " 0.6214043591347921,\n",
       " -0.7445127699067792]"
      ]
     },
     "execution_count": 123,
     "metadata": {},
     "output_type": "execute_result"
    }
   ],
   "source": [
    "#%%writefile TryThisOut.py\n",
    "\n",
    "import math\n",
    "def calc_mean(x):\n",
    "    SUM = 0\n",
    "    for i in x:\n",
    "        SUM += i\n",
    "    return SUM/len(x)\n",
    "\n",
    "def calc_sd(x):\n",
    "    MEAN = calc_mean(x)\n",
    "    SUM_SE = 0\n",
    "    for i in x:\n",
    "        SUM_SE += (i - MEAN)**2\n",
    "    return math.sqrt(SUM_SE)\n",
    "\n",
    "def std_var(x):\n",
    "    MEAN = calc_mean(x)\n",
    "    STD = calc_sd(x)\n",
    "    return [(i-MEAN)/STD for i in x]\n",
    "\n",
    "x = [2.3, -3.2, 9.1, -14.2]\n",
    "std_var(x)"
   ]
  },
  {
   "cell_type": "code",
   "execution_count": null,
   "metadata": {},
   "outputs": [],
   "source": []
  },
  {
   "cell_type": "code",
   "execution_count": null,
   "metadata": {},
   "outputs": [],
   "source": []
  }
 ],
 "metadata": {
  "kernelspec": {
   "display_name": "Python 3",
   "language": "python",
   "name": "python3"
  },
  "language_info": {
   "codemirror_mode": {
    "name": "ipython",
    "version": 3
   },
   "file_extension": ".py",
   "mimetype": "text/x-python",
   "name": "python",
   "nbconvert_exporter": "python",
   "pygments_lexer": "ipython3",
   "version": "3.7.3"
  }
 },
 "nbformat": 4,
 "nbformat_minor": 4
}
