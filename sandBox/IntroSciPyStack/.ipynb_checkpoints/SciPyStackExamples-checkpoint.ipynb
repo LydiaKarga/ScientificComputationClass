{
 "cells": [
  {
   "cell_type": "code",
   "execution_count": 48,
   "metadata": {},
   "outputs": [],
   "source": [
    "import scipy as sp\n",
    "import numpy as np\n",
    "import pandas as pd\n",
    "import matplotlib.pyplot as plt\n",
    "import seaborn as sns"
   ]
  },
  {
   "cell_type": "code",
   "execution_count": 49,
   "metadata": {},
   "outputs": [
    {
     "data": {
      "text/plain": [
       "Generator(PCG64) at 0x1A1B4729A8"
      ]
     },
     "execution_count": 49,
     "metadata": {},
     "output_type": "execute_result"
    }
   ],
   "source": [
    "# this creates a np.random.PCG64 Generator\n",
    "# for replicable random number generation\n",
    "my_rng = np.random.default_rng(412412)\n",
    "my_rng"
   ]
  },
  {
   "cell_type": "markdown",
   "metadata": {},
   "source": [
    "# SciPy: The Foundation\n",
    "\n",
    "`scipy` is both a packages with useful tools for scientific computation and a collection of interconnecting tools.\n",
    "\n",
    "# SciPy distributions and methods\n",
    "\n",
    "There are many useful funtions within SciPy. Perhaps the most common are distribution functions. A useful rundown of these are in Scientific Computation: Python 3 Hacking for Math Junkies pg. 275-282.\n",
    "\n",
    "Generally, we will use `pdfs` or `cdfs` with the syntax, `scipy.stats.DISTRIBUTION(params, ...).pdf(val)` and `scipy.stats.DISTRIBUTION(params, ...).cdf(val, )`.\n",
    "\n",
    "Remember that the cdf is just the area under the pdf from left to right.\n",
    "\n",
    "If we want the value of x where the height of the cdf is some probability P, then we can use the `percent point function`, which is the reverse of the cdf. This can be done with `scipy.stats.DISTRIBUTION.ppf(P)`\n",
    "\n",
    "Lets just calculate the density/height of a value `x` from a normal pdf with parameters $\\mu=0$ and $\\sigma=2$, we can denote this with $N(0, 1)$"
   ]
  },
  {
   "cell_type": "code",
   "execution_count": 3,
   "metadata": {},
   "outputs": [
    {
     "data": {
      "text/plain": [
       "0.058440944333451476"
      ]
     },
     "execution_count": 3,
     "metadata": {},
     "output_type": "execute_result"
    }
   ],
   "source": [
    "x = 1.96\n",
    "mu = 0\n",
    "sigma = 1\n",
    "# evaluate normal pdf at x\n",
    "sp.stats.norm(mu, sigma).pdf(x)"
   ]
  },
  {
   "cell_type": "markdown",
   "metadata": {},
   "source": [
    "This does not really mean much to us alone. Lets compare to another number closer to the mean"
   ]
  },
  {
   "cell_type": "code",
   "execution_count": 4,
   "metadata": {},
   "outputs": [
    {
     "data": {
      "text/plain": [
       "0.3910426939754559"
      ]
     },
     "execution_count": 4,
     "metadata": {},
     "output_type": "execute_result"
    }
   ],
   "source": [
    "z = .2\n",
    "sp.stats.norm(mu, sigma).pdf(z)"
   ]
  },
  {
   "cell_type": "markdown",
   "metadata": {},
   "source": [
    "This is at least a little helpful, it tells us the height of the pdf is greater closer to the mean, we know this, given the shape of the normal distribution, but it helps us check that the function is doing what it is supposed to.\n",
    "\n",
    "Now to the cdf from the same distribution. This tells us the probability that some value $Y$ we draw from a $N(0, 1)$ is lower than $x$."
   ]
  },
  {
   "cell_type": "code",
   "execution_count": 5,
   "metadata": {},
   "outputs": [
    {
     "data": {
      "text/plain": [
       "0.9750021048517795"
      ]
     },
     "execution_count": 5,
     "metadata": {},
     "output_type": "execute_result"
    }
   ],
   "source": [
    "# evaluate normal cdf at x, prob(Y<X) when Y~N(mu,sigma)\n",
    "sp.stats.norm(mu, sigma).cdf(x)"
   ]
  },
  {
   "cell_type": "markdown",
   "metadata": {},
   "source": [
    "Since 1.96 is almost 2 standard deviations about $\\mu$ this makes sense, there is alot of area under the pdf curve of a $N(0, 1)<1.96$, and very little to the right $>1.96$.\n",
    "\n",
    "We can check the complementary probability to the right, since the area under pdfs sum to 1"
   ]
  },
  {
   "cell_type": "code",
   "execution_count": 6,
   "metadata": {},
   "outputs": [
    {
     "data": {
      "text/plain": [
       "0.024997895148220484"
      ]
     },
     "execution_count": 6,
     "metadata": {},
     "output_type": "execute_result"
    }
   ],
   "source": [
    "# upper/right tail probability 1 - norm.cdf(x)\n",
    "# prob(Y>X) when Y~N(mu,sigma)\n",
    "1- sp.stats.norm(mu, sigma).cdf(x)"
   ]
  },
  {
   "cell_type": "markdown",
   "metadata": {},
   "source": [
    "There are times when we want to calculate the value that has a certain percentage of the cdf to the left (or right) of it.\n",
    "\n",
    "We can use `.ppf` for this. It will return that x value that has a given $P$ (height) of the cdf, which references the amount of area from that point x to $-\\infty$, going left."
   ]
  },
  {
   "cell_type": "code",
   "execution_count": 7,
   "metadata": {},
   "outputs": [
    {
     "data": {
      "text/plain": [
       "1.959963984540054"
      ]
     },
     "execution_count": 7,
     "metadata": {},
     "output_type": "execute_result"
    }
   ],
   "source": [
    "# what x is x at prob(Y<x)=P\n",
    "P = .975\n",
    "sp.stats.norm(mu, sigma).ppf(P)"
   ]
  },
  {
   "cell_type": "markdown",
   "metadata": {},
   "source": [
    "If we want to know the value of x at some complementary value that represent $prob(Y>x)=Q$, then we just need to note that $Q = 1-P$"
   ]
  },
  {
   "cell_type": "code",
   "execution_count": 8,
   "metadata": {},
   "outputs": [
    {
     "data": {
      "text/plain": [
       "-1.959963984540054"
      ]
     },
     "execution_count": 8,
     "metadata": {},
     "output_type": "execute_result"
    }
   ],
   "source": [
    "# what x is x at prob(Y>x)=P\n",
    "Q = .975\n",
    "P = 1 - Q\n",
    "sp.stats.norm(mu, sigma).ppf(P)"
   ]
  },
  {
   "cell_type": "markdown",
   "metadata": {},
   "source": [
    "We often what to generate random values from a specific distribution. In addition to the `random` library, and `np.random` we can do this with `scipy` using the `.rvs(n)` method, where `n` is the number of draws you want. Lets use a discrete distribution, where we have probability mass functions (pmfs). We can then draw random values that will take on discrete value, like 0 or 1, instead of taking on continuous values. \n",
    "\n",
    "However, to do this in a replicable way, we will pass in our np.random.PCG64 generator object, defined near the top of this notebook. \n",
    "\n",
    "Here is a simple example with a bernoulli distribution, where if $Y \\sim Bern(p)$ $Y\\in\\{0, 1\\}$, $0\\geq p \\leq 1$, $prob(Y=1)=p$, and $prob(Y=0) = 1-p$  "
   ]
  },
  {
   "cell_type": "code",
   "execution_count": 9,
   "metadata": {},
   "outputs": [
    {
     "data": {
      "text/plain": [
       "array([1, 0, 1, 1, 1])"
      ]
     },
     "execution_count": 9,
     "metadata": {},
     "output_type": "execute_result"
    }
   ],
   "source": [
    "p = .8\n",
    "sp.stats.bernoulli(p).rvs(5, random_state=my_rng)"
   ]
  },
  {
   "cell_type": "markdown",
   "metadata": {},
   "source": [
    "Lets look at how to put distributions together too. Below I will first generate a probability `my_prob` from a beta distribution, $\\beta(1,1)$ , that has support $0<x<1$. The beta is a continuous distribution even though it has bounded support (only generate values between 0 and 1, but it can generate continuous values between those bounds). Then we use that 1 $p$ to draw 10 values from a bernoulli distribution.  \n",
    "\n",
    "The distribution takes two parameters a and b."
   ]
  },
  {
   "cell_type": "code",
   "execution_count": 10,
   "metadata": {},
   "outputs": [
    {
     "name": "stdout",
     "output_type": "stream",
     "text": [
      "p=[0.95645645]\n"
     ]
    },
    {
     "data": {
      "text/plain": [
       "array([1, 1, 1, 1, 1, 1, 1, 0, 1, 1])"
      ]
     },
     "execution_count": 10,
     "metadata": {},
     "output_type": "execute_result"
    }
   ],
   "source": [
    "my_prob = sp.stats.beta(1, 1).rvs(1, random_state=my_rng)\n",
    "my_draws = sp.stats.bernoulli(my_prob).rvs(10, random_state=my_rng)\n",
    "print(f\"p={my_prob}\")\n",
    "my_draws"
   ]
  },
  {
   "cell_type": "markdown",
   "metadata": {},
   "source": [
    "If we wrap this in a function, we can see that the draws change each time"
   ]
  },
  {
   "cell_type": "code",
   "execution_count": 11,
   "metadata": {},
   "outputs": [
    {
     "name": "stdout",
     "output_type": "stream",
     "text": [
      "========\n",
      "trial: 0\n",
      "p=[0.23791427]\n",
      "draws: [0 0 0 0 0 0 0 0 0 0]\n",
      "========\n",
      "trial: 1\n",
      "p=[0.72417598]\n",
      "draws: [0 0 1 0 0 1 0 1 1 1]\n",
      "========\n",
      "trial: 2\n",
      "p=[0.23402248]\n",
      "draws: [1 0 0 0 1 0 0 0 0 0]\n"
     ]
    }
   ],
   "source": [
    "def beta_bernoulli(b1: int=1, b2: int=1, draws: int=10, rng=my_rng) -> None:\n",
    "    my_prob = sp.stats.beta(1, 1).rvs(1, random_state=rng)\n",
    "    my_draws = sp.stats.bernoulli(my_prob).rvs(10, random_state=rng)\n",
    "    print(f\"p={my_prob}\")\n",
    "    print(f\"draws: {my_draws}\")\n",
    "\n",
    "for i in range(3):\n",
    "    print(\"========\")\n",
    "    print(f\"trial: {i}\")\n",
    "    beta_bernoulli()"
   ]
  },
  {
   "cell_type": "markdown",
   "metadata": {},
   "source": [
    "scipy also has usful tools for integration that are explored in the SC: P3MH4MJ book."
   ]
  },
  {
   "cell_type": "markdown",
   "metadata": {},
   "source": [
    "## NumPy arrays and vectorization\n",
    "\n",
    "We have talked a little about numpy ndarrays aleady, but it is important that we nail down indexing of arrays and the super-power of vectorization.\n",
    "\n",
    "We know that `np.ndarrays` can be created with the `np.arrray`  call. \n",
    "\n",
    "Lets create a matrix with np.array."
   ]
  },
  {
   "cell_type": "code",
   "execution_count": 12,
   "metadata": {},
   "outputs": [
    {
     "data": {
      "text/plain": [
       "array([[ 0,  1,  2,  3,  4,  5],\n",
       "       [10, 11, 12, 13, 14, 15],\n",
       "       [20, 21, 22, 23, 24, 25],\n",
       "       [30, 31, 32, 33, 34, 35],\n",
       "       [40, 41, 42, 43, 44, 45],\n",
       "       [50, 51, 52, 53, 54, 55]])"
      ]
     },
     "execution_count": 12,
     "metadata": {},
     "output_type": "execute_result"
    }
   ],
   "source": [
    "my_array = np.array([\n",
    "    list(range(0, 6)),\n",
    "    list(range(10, 16)),\n",
    "    list(range(20, 26)),\n",
    "    list(range(30, 36)),\n",
    "    list(range(40, 46)),\n",
    "    list(range(50, 56))\n",
    "])\n",
    "my_array"
   ]
  },
  {
   "cell_type": "markdown",
   "metadata": {},
   "source": [
    "Now lets grab the values in the zero-th row and the 3rd and 4th columns"
   ]
  },
  {
   "cell_type": "code",
   "execution_count": 13,
   "metadata": {},
   "outputs": [
    {
     "data": {
      "text/plain": [
       "array([3, 4])"
      ]
     },
     "execution_count": 13,
     "metadata": {},
     "output_type": "execute_result"
    }
   ],
   "source": [
    "my_array[0, 3:5]"
   ]
  },
  {
   "cell_type": "markdown",
   "metadata": {},
   "source": [
    "The 2x2 block at the lower right can be indexed here with"
   ]
  },
  {
   "cell_type": "code",
   "execution_count": 14,
   "metadata": {},
   "outputs": [
    {
     "data": {
      "text/plain": [
       "array([[44, 45],\n",
       "       [54, 55]])"
      ]
     },
     "execution_count": 14,
     "metadata": {},
     "output_type": "execute_result"
    }
   ],
   "source": [
    "my_array[4:, 4:]"
   ]
  },
  {
   "cell_type": "markdown",
   "metadata": {},
   "source": [
    "The second (starting our count from 0) column:"
   ]
  },
  {
   "cell_type": "code",
   "execution_count": 15,
   "metadata": {},
   "outputs": [
    {
     "data": {
      "text/plain": [
       "array([ 2, 12, 22, 32, 42, 52])"
      ]
     },
     "execution_count": 15,
     "metadata": {},
     "output_type": "execute_result"
    }
   ],
   "source": [
    "my_array[:, 2]"
   ]
  },
  {
   "cell_type": "markdown",
   "metadata": {},
   "source": [
    "Every other value (across the columns in that row) in every other row, starting from the second row"
   ]
  },
  {
   "cell_type": "code",
   "execution_count": 16,
   "metadata": {},
   "outputs": [
    {
     "data": {
      "text/plain": [
       "array([[20, 22, 24],\n",
       "       [40, 42, 44]])"
      ]
     },
     "execution_count": 16,
     "metadata": {},
     "output_type": "execute_result"
    }
   ],
   "source": [
    "my_array[2::2, ::2 ]"
   ]
  },
  {
   "cell_type": "markdown",
   "metadata": {},
   "source": [
    "This last index uses the fact that we have the slicing syntax `[start_including: stop_before: step]`\n",
    "\n",
    "`start_including` -- where to start, including that chunk, begins at 0 if not provided\n",
    "\n",
    "`stop_before` -- end slice before this value, so not including that chunk, includes all the way to the end if not included\n",
    "\n",
    "`step` -- how to step from value to value, defaults to 1, going from chunk to chunk.\n",
    "\n",
    "Given the defaults [::, 1] is the same as [:, 1]."
   ]
  },
  {
   "cell_type": "code",
   "execution_count": 17,
   "metadata": {},
   "outputs": [],
   "source": [
    "assert np.all(my_array[::, 1] == my_array[:, 1])"
   ]
  },
  {
   "cell_type": "markdown",
   "metadata": {},
   "source": [
    "Vectors are fundamental objects for computational social science. So it is propitious that numpy provides tools for us to work not only with scalars, but vectors all at once. This has nice readability and speed benefits.\n",
    "\n",
    "Imagine if you have funcation that takes a scalar value parameter, like the normal pdf we looked at above"
   ]
  },
  {
   "cell_type": "code",
   "execution_count": 18,
   "metadata": {},
   "outputs": [
    {
     "data": {
      "text/plain": [
       "array([2.61659109])"
      ]
     },
     "execution_count": 18,
     "metadata": {},
     "output_type": "execute_result"
    }
   ],
   "source": [
    "mu = 2\n",
    "my_val = sp.stats.norm(mu, 3).rvs(1, random_state=my_rng)\n",
    "my_val"
   ]
  },
  {
   "cell_type": "markdown",
   "metadata": {},
   "source": [
    "Now what if I want 10 values that each come from different means? For example, imagine I have $\\mu = 2 + x/10$, where $x=[1, 2, 3, ..., 10]$\n",
    "\n",
    "We could just loop"
   ]
  },
  {
   "cell_type": "code",
   "execution_count": 19,
   "metadata": {},
   "outputs": [
    {
     "name": "stdout",
     "output_type": "stream",
     "text": [
      "mu=2.1, and val=[4.97116732]\n",
      "mu=2.2, and val=[1.65829256]\n",
      "mu=2.3, and val=[-0.4074332]\n",
      "mu=2.4, and val=[2.32495104]\n",
      "mu=2.5, and val=[6.04241704]\n",
      "mu=2.6, and val=[6.61694517]\n",
      "mu=2.7, and val=[5.34236338]\n",
      "mu=2.8, and val=[5.00148309]\n",
      "mu=2.9, and val=[1.81006828]\n",
      "mu=3.0, and val=[1.81573913]\n"
     ]
    }
   ],
   "source": [
    "x = range(1, 11)\n",
    "for i in x:\n",
    "    mu = 2 + i/10\n",
    "    print(f\"mu={mu}, and val={sp.stats.norm(mu, 3).rvs(1, random_state=my_rng)}\")"
   ]
  },
  {
   "cell_type": "markdown",
   "metadata": {},
   "source": [
    "But numpy knows how to push vectors through functions. So we can do this:"
   ]
  },
  {
   "cell_type": "code",
   "execution_count": 20,
   "metadata": {},
   "outputs": [
    {
     "name": "stdout",
     "output_type": "stream",
     "text": [
      "(10,)\n"
     ]
    },
    {
     "data": {
      "text/plain": [
       "array([ 4.15068656,  3.51220333,  2.46831097,  1.01271958,  2.04161814,\n",
       "        3.52979031,  1.91437114, -0.37475095,  3.21799387,  1.96267255])"
      ]
     },
     "execution_count": 20,
     "metadata": {},
     "output_type": "execute_result"
    }
   ],
   "source": [
    "mu_vec = 2 + np.array(range(1, 11))/10\n",
    "print(mu_vec.shape)\n",
    "densities = sp.stats.norm(mu_vec, 2).rvs(10, random_state=my_rng)\n",
    "densities"
   ]
  },
  {
   "cell_type": "markdown",
   "metadata": {},
   "source": [
    "Notice that we have to ask for 10 values from `.rvs` to match the vector, `mu_vec` we are now pushing through.\n",
    "To print out the mu and the density, we can use a dictionary expansion:"
   ]
  },
  {
   "cell_type": "code",
   "execution_count": 21,
   "metadata": {},
   "outputs": [
    {
     "data": {
      "text/plain": [
       "{2.1: 4.150686562171483,\n",
       " 2.2: 3.5122033293096306,\n",
       " 2.3: 2.4683109685912004,\n",
       " 2.4: 1.0127195807878222,\n",
       " 2.5: 2.041618138789032,\n",
       " 2.6: 3.5297903051163564,\n",
       " 2.7: 1.9143711353576518,\n",
       " 2.8: -0.3747509472558157,\n",
       " 2.9: 3.2179938689274104,\n",
       " 3.0: 1.962672552587703}"
      ]
     },
     "execution_count": 21,
     "metadata": {},
     "output_type": "execute_result"
    }
   ],
   "source": [
    "{key: val for key, val in zip(mu_vec, densities)}"
   ]
  },
  {
   "cell_type": "markdown",
   "metadata": {},
   "source": [
    "### Broadcasting\n",
    "\n",
    "In order for this type of vectorization to work, you have smaller vectors or scalars have to match the longer vectors being pushed through a function. For example, there are three parameters that are of interest in the line of code:\n",
    "\n",
    "```python\n",
    "sp.stats.norm(mu_vec, 2).rvs(10, random_state=my_rng)\n",
    "```\n",
    "\n",
    "- `mu_vec` is vector with shape (10,)\n",
    "- `2` is a scalar for the standard deviation of the normal\n",
    "- `10` is also a scalar, being used for the number of values\n",
    "\n",
    "These numbers have to *match* or be made *coherent*.\n",
    "\n",
    "In `norm(mu_vec, 2)` we say that that the scalar `2` is **broadcast** to the shape of `mu_vec`, so it become in essence `np.repeat(2, 10)` \n"
   ]
  },
  {
   "cell_type": "code",
   "execution_count": 22,
   "metadata": {},
   "outputs": [
    {
     "name": "stdout",
     "output_type": "stream",
     "text": [
      "[2 2 2 2 2 2 2 2 2 2]\n"
     ]
    },
    {
     "data": {
      "text/plain": [
       "(10,)"
      ]
     },
     "execution_count": 22,
     "metadata": {},
     "output_type": "execute_result"
    }
   ],
   "source": [
    "print(np.repeat(2, 10))\n",
    "np.repeat(2, 10).shape"
   ]
  },
  {
   "cell_type": "markdown",
   "metadata": {},
   "source": [
    "Broadcasting rules can be complicated for arrays and can be found [here](https://numpy.org/doc/stable/user/theory.broadcasting.html#array-broadcasting-in-numpy) and [here](https://numpy.org/doc/stable/user/basics.broadcasting.html)\n",
    "\n",
    "Note that in `.rvs(10, random_state=my_rng)` the 10 cannot be replaced with 1, because we cannot have 10 different normal distributions (each with different means but the same standard deviation) directly generate 1 random variable (without some sort of aggregation across the distributions).\n",
    "\n",
    "### Roll your own vectorization with decorators\n",
    "\n",
    "You can also do this type of vectorization with your own functions.\n",
    "\n",
    "This will also let us introduce **decorators**.\n",
    "\n",
    "Let's define a function that return 0 if a threshold is not crossed and 1 if it is."
   ]
  },
  {
   "cell_type": "code",
   "execution_count": 23,
   "metadata": {},
   "outputs": [
    {
     "data": {
      "text/plain": [
       "0"
      ]
     },
     "execution_count": 23,
     "metadata": {},
     "output_type": "execute_result"
    }
   ],
   "source": [
    "x = .2\n",
    "\n",
    "def threshold(x: float, tau: float=.5) -> int:\n",
    "    if x < tau:\n",
    "        return 0\n",
    "    elif x >= tau:\n",
    "        return 1\n",
    "\n",
    "threshold(x)"
   ]
  },
  {
   "cell_type": "markdown",
   "metadata": {},
   "source": [
    "Note that we have a scalar for x.\n",
    "\n",
    "If we try and push a vector through `my_fun` we get an error"
   ]
  },
  {
   "cell_type": "code",
   "execution_count": 24,
   "metadata": {},
   "outputs": [
    {
     "name": "stdout",
     "output_type": "stream",
     "text": [
      "This will not work because you cannot compare a float \n",
      "to an array without some rules, \n",
      "like which values to use\n"
     ]
    }
   ],
   "source": [
    "x_vec = [.1, .2, .9]\n",
    "try: \n",
    "    threshold(x_vec)\n",
    "except TypeError:\n",
    "    print(\"This will not work because you cannot compare a float \\nto an array without some rules, \\nlike which values to use\")"
   ]
  },
  {
   "cell_type": "markdown",
   "metadata": {},
   "source": [
    "Instead of re-writing our function for np.arrays, we will vectorize it, using `np.vectorize`, use `?np.vectorize` for more info"
   ]
  },
  {
   "cell_type": "code",
   "execution_count": 25,
   "metadata": {},
   "outputs": [
    {
     "data": {
      "text/plain": [
       "<numpy.vectorize at 0x1a1b49fb70>"
      ]
     },
     "execution_count": 25,
     "metadata": {},
     "output_type": "execute_result"
    }
   ],
   "source": [
    "v_threshold = np.vectorize(threshold)\n",
    "v_threshold"
   ]
  },
  {
   "cell_type": "code",
   "execution_count": 26,
   "metadata": {},
   "outputs": [],
   "source": [
    "v_threshold(x_vec)"
   ]
  },
  {
   "cell_type": "markdown",
   "metadata": {},
   "source": [
    "## From NumPy to Pandas\n",
    "\n",
    "The pandas library has objects and methods that are built on top of some of numpy's functionality. \n",
    "\n",
    "Most crucially:\n",
    "\n",
    "- `pd.Series` objects are like 1-D numpy arrays. Think of these as columns. They can be of 1 type or more general mixing types.\n",
    "\n",
    "- `pd.DataFrame` objects are like 2-d np.ndarrays. But they are best thought of as collections of pd.Series. Where there are pd.Series for each column, but also ways of defining a pd.Series for rows.\n",
    "\n",
    "We can easily define a pd.DataFrame from a np.ndarray. "
   ]
  },
  {
   "cell_type": "code",
   "execution_count": 55,
   "metadata": {},
   "outputs": [],
   "source": [
    "my_array = np.array([[\"red\", 2, 1.3, True],\n",
    "                    [\"blue\", 3, 3.2, False]])\n",
    "my_DataFrame = pd.DataFrame(my_array)\n",
    "my_DataFrame"
   ]
  },
  {
   "cell_type": "markdown",
   "metadata": {},
   "source": [
    "Since np.arrays do not have names for columns, we can build a DataFrame with the name a dictionary comprehension where we unpack each column of the array.\n",
    "\n",
    "To follow:\n",
    "\n",
    "- `[my_array[:, i] for i in range(4)]` -- use a list comprehension to grab each column of `my_array`\n",
    "- `zip(names, [my_array[:, i] for i in range(4)])` -- zip together the name and the column\n",
    "- `{n: s for n, s in zip(names, [my_array[:, i] for i in range(4)]) }` -- use a dictionary comprehension to create a dictionary with names as keys and columns as values\n",
    "\n",
    "Then that dictionary is passed to pd.DataFrame"
   ]
  },
  {
   "cell_type": "code",
   "execution_count": 59,
   "metadata": {},
   "outputs": [
    {
     "data": {
      "text/html": [
       "<div>\n",
       "<style scoped>\n",
       "    .dataframe tbody tr th:only-of-type {\n",
       "        vertical-align: middle;\n",
       "    }\n",
       "\n",
       "    .dataframe tbody tr th {\n",
       "        vertical-align: top;\n",
       "    }\n",
       "\n",
       "    .dataframe thead th {\n",
       "        text-align: right;\n",
       "    }\n",
       "</style>\n",
       "<table border=\"1\" class=\"dataframe\">\n",
       "  <thead>\n",
       "    <tr style=\"text-align: right;\">\n",
       "      <th></th>\n",
       "      <th>color</th>\n",
       "      <th>count</th>\n",
       "      <th>score</th>\n",
       "      <th>bool</th>\n",
       "    </tr>\n",
       "  </thead>\n",
       "  <tbody>\n",
       "    <tr>\n",
       "      <th>0</th>\n",
       "      <td>red</td>\n",
       "      <td>2</td>\n",
       "      <td>1.3</td>\n",
       "      <td>True</td>\n",
       "    </tr>\n",
       "    <tr>\n",
       "      <th>1</th>\n",
       "      <td>blue</td>\n",
       "      <td>3</td>\n",
       "      <td>3.2</td>\n",
       "      <td>False</td>\n",
       "    </tr>\n",
       "  </tbody>\n",
       "</table>\n",
       "</div>"
      ],
      "text/plain": [
       "  color count score   bool\n",
       "0   red     2   1.3   True\n",
       "1  blue     3   3.2  False"
      ]
     },
     "execution_count": 59,
     "metadata": {},
     "output_type": "execute_result"
    }
   ],
   "source": [
    "names = [\"color\", \"count\", \"score\", \"bool\"]\n",
    "my_DataFrame = pd.DataFrame({n: s for n, s in zip(names, [my_array[:, i] for i in range(4)]) })\n",
    "my_DataFrame"
   ]
  },
  {
   "cell_type": "markdown",
   "metadata": {},
   "source": [
    "It is also important to see how we can grab np.arrays from pd.DataFrames. They are held in the `.values` attribute "
   ]
  },
  {
   "cell_type": "code",
   "execution_count": 73,
   "metadata": {},
   "outputs": [
    {
     "data": {
      "text/plain": [
       "array(['2', '3'], dtype=object)"
      ]
     },
     "execution_count": 73,
     "metadata": {},
     "output_type": "execute_result"
    }
   ],
   "source": [
    "# grab a column as np.array\n",
    "my_DataFrame[\"count\"].values"
   ]
  },
  {
   "cell_type": "code",
   "execution_count": 72,
   "metadata": {},
   "outputs": [
    {
     "data": {
      "text/plain": [
       "array(['red', '2', '1.3', 'True'], dtype=object)"
      ]
     },
     "execution_count": 72,
     "metadata": {},
     "output_type": "execute_result"
    }
   ],
   "source": [
    "# grab a row as np.array\n",
    "my_DataFrame.iloc[0, :].values"
   ]
  },
  {
   "cell_type": "markdown",
   "metadata": {},
   "source": [
    "## Matplotlib ... is a library that plots math-y stuff\n",
    "\n",
    "While `altair` is a fantastic interactive plotting library, `matplotlib` can also be extremely useful.\n",
    "This is especially true for plots that `altair` might not have implemented yet. Further, since both `pandas` and `matplotlib` are part of the scipy ecosystem, they integrate together nicely, where a `pandas.DataFrame` object has a `.plot` method that calls `matplotlib`\n",
    "\n",
    "The downside of `matplotlib` is that it is relatively cumbersome to use. It is imperative, meaning that you have to tell it exactly what to do, with few nice defaults. Another module, `seaborn` is built on top of `matplotlib` to solve some of these problems. I will talk through a few short examples so we can **see** some of the distributions from SciPy and plot np.arrays. Doing this will also allow us to use some additional tools from numpy.\n",
    "\n",
    "We will generate equally spaced values from -10 to 10 using `np.linspace(start, stop_including, n)`, where n is the number of values to create. These will the values to plot on the x-axis.\n",
    "\n",
    "Then push those values through two different distributions\n",
    "\n",
    "- $N(2, 3)$ pdf to get the first values for the y-axis (call this y1).\n",
    "- $N(2, 1)$ pdf to get the second values for the y-axis (call this y2).\n",
    "\n",
    "Then connect the points with a line and plot using matplotlib.pyplot functions.\n",
    "\n",
    "Note that we are using numpy for vectorization here, since $x$ is a 1-d array; but we can push this directly through the `norm.pdf` to gather $y$"
   ]
  },
  {
   "cell_type": "code",
   "execution_count": 27,
   "metadata": {},
   "outputs": [
    {
     "data": {
      "image/png": "[encoded data removed]",
      "text/plain": [
       "<Figure size 432x288 with 1 Axes>"
      ]
     },
     "metadata": {
      "needs_background": "light"
     },
     "output_type": "display_data"
    }
   ],
   "source": [
    "x = np.linspace(10, -10, 250)\n",
    "y1 = sp.stats.norm(2, 3).pdf(x)\n",
    "y2 = sp.stats.norm(2, 1).pdf(x)\n",
    "\n",
    "plt.plot(x, y1, ls=\"-\", c=\"k\")\n",
    "plt.plot(x, y2, ls=\"--\", c=\"y\");"
   ]
  },
  {
   "cell_type": "markdown",
   "metadata": {},
   "source": [
    "Note that we use the arguments:\n",
    "\n",
    "- `ls` to define the line style, see the line style documentation for matplotlib [here](https://matplotlib.org/gallery/lines_bars_and_markers/line_styles_reference.html).\n",
    "\n",
    "- `c` to define the color, where colors are keyed to letters (eg \"k\" is black, \"y\" is yellow). There are other types of values, see the tutorial [here](https://matplotlib.org/3.1.0/tutorials/colors/colors.html) and example gallery [here](https://matplotlib.org/3.1.0/gallery/color/named_colors.html). \n",
    "\n",
    "Let's now plot the cdfs of both of these distributions for comparison."
   ]
  },
  {
   "cell_type": "code",
   "execution_count": 28,
   "metadata": {},
   "outputs": [
    {
     "data": {
      "image/png": "[encoded data removed]",
      "text/plain": [
       "<Figure size 432x288 with 1 Axes>"
      ]
     },
     "metadata": {
      "needs_background": "light"
     },
     "output_type": "display_data"
    }
   ],
   "source": [
    "x = np.linspace(10, -10, 250)\n",
    "y1 = sp.stats.norm(2, 3).cdf(x)\n",
    "y2 = sp.stats.norm(2, 1).cdf(x)\n",
    "\n",
    "plt.plot(x, y1, ls=\"-\", c=\"k\")\n",
    "plt.plot(x, y2, ls=\"--\", c=\"y\");"
   ]
  },
  {
   "cell_type": "markdown",
   "metadata": {},
   "source": [
    "Discrete distributions are similar, lets look at bernoulli (0, 1), binomial (counts of successes), and multinomial values (nominal categories) "
   ]
  },
  {
   "cell_type": "code",
   "execution_count": 29,
   "metadata": {},
   "outputs": [
    {
     "data": {
      "image/png": "[encoded data removed]",
      "text/plain": [
       "<Figure size 432x288 with 1 Axes>"
      ]
     },
     "metadata": {
      "needs_background": "light"
     },
     "output_type": "display_data"
    }
   ],
   "source": [
    "# bernoulli example, does not need scipy\n",
    "p = .2\n",
    "data = np.array([[1, p], \n",
    "                [0, 1-p]])\n",
    "plt.bar(data[:,0], data[:, 1], color=\"gold\")\n",
    "plt.xticks(data[:, 0])\n",
    "plt.title(f\"Bernoulli with p={p}\");"
   ]
  },
  {
   "cell_type": "code",
   "execution_count": 30,
   "metadata": {},
   "outputs": [
    {
     "data": {
      "image/png": "[encoded data removed]",
      "text/plain": [
       "<Figure size 432x288 with 1 Axes>"
      ]
     },
     "metadata": {
      "needs_background": "light"
     },
     "output_type": "display_data"
    }
   ],
   "source": [
    "# binomial example, 10 trials\n",
    "# note bernoulli is just a binomial with 1 trial\n",
    "trials = 10\n",
    "p = .25\n",
    "x = range(0, trials+1)\n",
    "y = sp.stats.binom(trials, p).pmf(x)\n",
    "plt.bar(x, y, color=\"k\")\n",
    "plt.xticks(x)\n",
    "plt.title(f\"binomial example with trials={trials} and p={p}\");"
   ]
  },
  {
   "cell_type": "code",
   "execution_count": 31,
   "metadata": {},
   "outputs": [
    {
     "data": {
      "image/png": "[encoded data removed]",
      "text/plain": [
       "<Figure size 432x288 with 1 Axes>"
      ]
     },
     "metadata": {
      "needs_background": "light"
     },
     "output_type": "display_data"
    }
   ],
   "source": [
    "# binomial cumulative mass example\n",
    "y2 = sp.stats.binom(trials, p).cdf(x)\n",
    "plt.bar(x, y2, color=\"k\")\n",
    "plt.xticks(x)\n",
    "plt.title(f\"binomial CMF with trials={trials} and p={p}\\n prob(Outcome <= x)\");"
   ]
  },
  {
   "cell_type": "markdown",
   "metadata": {},
   "source": [
    "This tells us the probability of gettig x or fewer successes from the binomial trials. More interesting, for example if you were playing a game is \n",
    "\n",
    "Note that we use `.pmf` for the probability mass function but `.cdf` even though this is a mass function.\n",
    "\n",
    "Multinomial pmf are just generalizations of bernoulli and if trials>1, binomial\n",
    "\n",
    "Here we will just use a pmf with 1 trial so we can visualize it.\n",
    "Again, we do not need scipy for this, since each outcome has an associated probability."
   ]
  },
  {
   "cell_type": "code",
   "execution_count": 32,
   "metadata": {},
   "outputs": [
    {
     "data": {
      "text/plain": [
       "Text(0.5, 1.0, 'Multinomial with 1 trial, and p=[0.1 0.5 0.3 0.1]')"
      ]
     },
     "execution_count": 32,
     "metadata": {},
     "output_type": "execute_result"
    },
    {
     "data": {
      "image/png": "[encoded data removed]",
      "text/plain": [
       "<Figure size 432x288 with 1 Axes>"
      ]
     },
     "metadata": {
      "needs_background": "light"
     },
     "output_type": "display_data"
    }
   ],
   "source": [
    "outcomes = np.array([\"red\", \"blue\", \"green\", \"black\"], dtype=np.str) # string type\n",
    "p_vec = np.array([.1, .5, .3, .1], dtype=np.float64) # np's floats\n",
    "plt.bar(outcomes, p_vec, color=outcomes)\n",
    "plt.title(f\"Multinomial with 1 trial, and p={p_vec}\")"
   ]
  },
  {
   "cell_type": "markdown",
   "metadata": {},
   "source": [
    "### Seaborn\n",
    "\n",
    "Seaborn is a useful package that is built on top of matplotlib. It is declarative, so it has nice defaults. It takes numpy arrays or pandas dataframes as data.\n",
    "\n",
    "One use case for Seaborn is if you want to plot draws from a multivariate normal distribution, with marginal histograms, you can use the sns.kdeplot for the kernel density.\n",
    "\n",
    "kernel densities are important tools for drawing the shape over empirical or contrived samples. Just as a cdf is an integral over a pdf, one can take the derivative of the empirical cumulative density function at points to get an empirical probability density.\n",
    "\n",
    "Here we can put this part of the SciPy stack together.\n",
    "\n",
    "We can:\n",
    "\n",
    "- generate random vectors values of values from a multivariate normal distribution (in a replicable way).\n",
    "\n",
    "- create a pd.DataFrame with the 2-vectors that are produced from the bivariate normal, calling them x1 and x2. \n",
    "\n",
    "- use seaborn as a wrapper over matplotlib to plot the 2-d kernel density of the draws, with marginal plots"
   ]
  },
  {
   "cell_type": "code",
   "execution_count": 93,
   "metadata": {},
   "outputs": [
    {
     "data": {
      "image/png": "[encoded data removed]",
      "text/plain": [
       "<Figure size 432x432 with 3 Axes>"
      ]
     },
     "metadata": {},
     "output_type": "display_data"
    }
   ],
   "source": [
    "# almost independent bivariate normal\n",
    "my_covariance = .1\n",
    "mu_vec = np.array([1., 2.])\n",
    "Sigma = np.array([[1, my_covariance],\n",
    "                 [my_covariance, 1]])\n",
    "            \n",
    "raw_data = sp.stats.multivariate_normal(mu_vec, Sigma).rvs(2000, random_state=my_rng)\n",
    "my_data = pd.DataFrame({\"x1\": raw_data[:, 0], \"x2\": raw_data[:, 1]})\n",
    "sns.jointplot(data=my_data, x=\"x1\", y=\"x2\", kind=\"kde\");"
   ]
  },
  {
   "cell_type": "markdown",
   "metadata": {},
   "source": [
    "We can use this to illustrate how covariance in a bivariate normal has a geometric interpretation as stretching a circle into a line.\n",
    "\n",
    "- above: low covariance\n",
    "- below: high covariance"
   ]
  },
  {
   "cell_type": "code",
   "execution_count": 95,
   "metadata": {},
   "outputs": [
    {
     "data": {
      "image/png": "[encoded data removed]",
      "text/plain": [
       "<Figure size 432x432 with 3 Axes>"
      ]
     },
     "metadata": {},
     "output_type": "display_data"
    }
   ],
   "source": [
    "# high covariance between two dimensions\n",
    "my_covariance = .9\n",
    "mu_vec = np.array([1., 2.])\n",
    "Sigma = np.array([[1, my_covariance],\n",
    "                 [my_covariance, 1]])\n",
    "            \n",
    "raw_data = sp.stats.multivariate_normal(mu_vec, Sigma).rvs(2000, random_state=my_rng)\n",
    "my_data = pd.DataFrame({\"x1\": raw_data[:, 0], \"x2\": raw_data[:, 1]})\n",
    "sns.jointplot(data=my_data, x=\"x1\", y=\"x2\", kind=\"kde\");"
   ]
  },
  {
   "cell_type": "markdown",
   "metadata": {},
   "source": [
    "Here is version with histograms and a color map that I think brings home the point"
   ]
  },
  {
   "cell_type": "code",
   "execution_count": 100,
   "metadata": {},
   "outputs": [
    {
     "data": {
      "image/png": "[encoded data removed]",
      "text/plain": [
       "<Figure size 432x432 with 3 Axes>"
      ]
     },
     "metadata": {},
     "output_type": "display_data"
    }
   ],
   "source": [
    "sns.set_theme(style=\"white\")\n",
    "\n",
    "g = sns.JointGrid(data=my_data, x=\"x1\", y=\"x2\", space=0)\n",
    "g.plot_joint(sns.kdeplot,\n",
    "             fill=True,\n",
    "             thresh=0, levels=100, cmap=\"rocket\")\n",
    "g.plot_marginals(sns.histplot, color=\"#03051A\", alpha=1, bins=25);"
   ]
  },
  {
   "cell_type": "markdown",
   "metadata": {},
   "source": [
    "With these ideas in place, we can begin to move to data munging with pandas and sklearn"
   ]
  }
 ],
 "metadata": {
  "kernelspec": {
   "display_name": "Python 3",
   "language": "python",
   "name": "python3"
  },
  "language_info": {
   "codemirror_mode": {
    "name": "ipython",
    "version": 3
   },
   "file_extension": ".py",
   "mimetype": "text/x-python",
   "name": "python",
   "nbconvert_exporter": "python",
   "pygments_lexer": "ipython3",
   "version": "3.7.3"
  }
 },
 "nbformat": 4,
 "nbformat_minor": 4
}
