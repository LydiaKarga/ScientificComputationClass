{
 "cells": [
  {
   "cell_type": "markdown",
   "metadata": {},
   "source": [
    "# Iterables and Generators\n",
    "\n",
    "Behind the scenes, Python's lists, dictionaries and other types are doing a lot of work so you can (relatively) efficiently iterate through them in loops (like for). \n",
    "\n",
    "Often we need to create our own sequence of numbers.\n",
    "\n",
    "One way to do this is to create a really long list or tuple, since these have order (0 before 1 before 2...etc). \n",
    "\n",
    "And often that is the right way to go.\n",
    "\n",
    "However, there are other times where you do not actually need the WHOLE sequence, you just need one thing at time. There can be huge efficiency gains for creating **generators**. These split out one output at a time, not the whole list.\n",
    "\n",
    "This is an example of lazy evaluation. Python will only evaluate a generator when it needs to.\n",
    "\n",
    "For example a list of the ints 0 to 3 would be:\n",
    "\n",
    "`a = [0, 1, 2, 3]`\n",
    "\n",
    "All 4 ints are in memory. \n",
    "\n",
    "A generator would be instruction to yield back **the next** item.\n",
    "\n",
    "Lets implement this to see how it works."
   ]
  },
  {
   "cell_type": "code",
   "execution_count": 2,
   "metadata": {},
   "outputs": [],
   "source": [
    "def generate_range(n):\n",
    "    \"\"\"generate integers\"\"\"\n",
    "    i = 0\n",
    "    while i < n:\n",
    "        yield i\n",
    "        i += 1"
   ]
  },
  {
   "cell_type": "markdown",
   "metadata": {},
   "source": [
    "Two things should pop out at first.\n",
    "\n",
    "- We are using a `while` loop. This will stop when the condition trips to false. Here the condition is `i < n`, where n is an argument. `i` is just a temporary value; not a list. \n",
    "\n",
    "- instead of `return` we have `yield`. This is what tells python that this function does not return an object, it is a generator!"
   ]
  },
  {
   "cell_type": "code",
   "execution_count": 3,
   "metadata": {},
   "outputs": [
    {
     "data": {
      "text/plain": [
       "<generator object generate_range at 0x10922f5e8>"
      ]
     },
     "execution_count": 3,
     "metadata": {},
     "output_type": "execute_result"
    }
   ],
   "source": [
    "generate_range(4)"
   ]
  },
  {
   "cell_type": "markdown",
   "metadata": {},
   "source": [
    "Notice that if we just try to run the generator, we do not get the output. We get the object in memory. This is the generator waiting to be called. \n",
    "\n",
    "We usually call a generator in some type of loop."
   ]
  },
  {
   "cell_type": "code",
   "execution_count": 4,
   "metadata": {},
   "outputs": [
    {
     "name": "stdout",
     "output_type": "stream",
     "text": [
      "i: 0\n",
      "i: 1\n",
      "i: 2\n",
      "i: 3\n"
     ]
    }
   ],
   "source": [
    "for i in generate_range(4):\n",
    "    print(f\"i: {i}\")"
   ]
  },
  {
   "cell_type": "markdown",
   "metadata": {},
   "source": [
    "Python already has a built-in generator that we use a great deal, `range`."
   ]
  },
  {
   "cell_type": "code",
   "execution_count": 5,
   "metadata": {},
   "outputs": [
    {
     "name": "stdout",
     "output_type": "stream",
     "text": [
      "i: 0\n",
      "i: 1\n",
      "i: 2\n",
      "i: 3\n"
     ]
    }
   ],
   "source": [
    "for i in range(4):\n",
    "    print(f\"i: {i}\")"
   ]
  },
  {
   "cell_type": "markdown",
   "metadata": {},
   "source": [
    "One gotcha with generators is that if you do not re-start them, them get reach the end and stop."
   ]
  },
  {
   "cell_type": "code",
   "execution_count": 6,
   "metadata": {},
   "outputs": [
    {
     "name": "stdout",
     "output_type": "stream",
     "text": [
      "i: 0\n",
      "i: 1\n",
      "i: 2\n",
      "i: 3\n"
     ]
    }
   ],
   "source": [
    "myGen = generate_range(4)\n",
    "for i in myGen:\n",
    "    print(f\"i: {i}\")"
   ]
  },
  {
   "cell_type": "code",
   "execution_count": 5,
   "metadata": {},
   "outputs": [],
   "source": [
    "for i in myGen:\n",
    "    print(f\"i: {i}\")"
   ]
  },
  {
   "cell_type": "markdown",
   "metadata": {},
   "source": [
    "Generators save their state so they know where to go next, but this means they might have an end.\n",
    "\n",
    "Infinite generators can be useful but you have to be careful because it is easy to tell a computer to do something forever, and being the trusted friend that it is... it will keep going.... forever."
   ]
  },
  {
   "cell_type": "markdown",
   "metadata": {},
   "source": [
    "## for comprehensions and generators\n",
    "\n",
    "You will often see generators used not just with functions and `yield` but with parentheses and **for comprehensions**.\n",
    "\n",
    "You should have seen in the book that we can write. a list comprehension like so:\n",
    "\n",
    "`myDoubleList = [2 * i for i in [1, 2, 3]]`\n",
    "\n",
    "We can do the same thing with `range`."
   ]
  },
  {
   "cell_type": "code",
   "execution_count": 18,
   "metadata": {},
   "outputs": [],
   "source": [
    "myDoubleGenerator = (2 * i for i in range(4))"
   ]
  },
  {
   "cell_type": "code",
   "execution_count": 19,
   "metadata": {},
   "outputs": [
    {
     "data": {
      "text/plain": [
       "<generator object <genexpr> at 0x10922f750>"
      ]
     },
     "execution_count": 19,
     "metadata": {},
     "output_type": "execute_result"
    }
   ],
   "source": [
    "myDoubleGenerator"
   ]
  },
  {
   "cell_type": "markdown",
   "metadata": {},
   "source": [
    "Then we can use that generator, one value at a time."
   ]
  },
  {
   "cell_type": "code",
   "execution_count": 20,
   "metadata": {},
   "outputs": [
    {
     "name": "stdout",
     "output_type": "stream",
     "text": [
      "0\n",
      "2\n",
      "4\n",
      "6\n"
     ]
    }
   ],
   "source": [
    "for i in myDoubleGenerator:\n",
    "    print(i)"
   ]
  },
  {
   "cell_type": "code",
   "execution_count": 21,
   "metadata": {},
   "outputs": [],
   "source": [
    "for i in myDoubleGenerator:\n",
    "    print(i)"
   ]
  },
  {
   "cell_type": "markdown",
   "metadata": {},
   "source": [
    "## creating lists from generators\n",
    "\n",
    "We can use generators to fill lists by using the `list()` constructor. This is what `[...]` is a shortcut for."
   ]
  },
  {
   "cell_type": "code",
   "execution_count": 22,
   "metadata": {},
   "outputs": [
    {
     "data": {
      "text/plain": [
       "[0, 2, 4, 6]"
      ]
     },
     "execution_count": 22,
     "metadata": {},
     "output_type": "execute_result"
    }
   ],
   "source": [
    "myDoubleGenerator = (2 * i for i in range(4))\n",
    "newList = list(myDoubleGenerator)\n",
    "newList"
   ]
  },
  {
   "cell_type": "markdown",
   "metadata": {},
   "source": [
    "or more directly with a list comprension from the generator"
   ]
  },
  {
   "cell_type": "code",
   "execution_count": 23,
   "metadata": {},
   "outputs": [
    {
     "data": {
      "text/plain": [
       "[0, 2, 4, 6]"
      ]
     },
     "execution_count": 23,
     "metadata": {},
     "output_type": "execute_result"
    }
   ],
   "source": [
    "newList = [2 * i for i in range(4)]\n",
    "newList"
   ]
  },
  {
   "cell_type": "markdown",
   "metadata": {},
   "source": [
    "## Iteration for lists and dictionaries\n",
    "\n",
    "As mentioned at the beginning, lists also are iteratable. Use the `enumerate` function to access next index and name of a list."
   ]
  },
  {
   "cell_type": "code",
   "execution_count": 24,
   "metadata": {},
   "outputs": [
    {
     "name": "stdout",
     "output_type": "stream",
     "text": [
      "item 0 is Alice\n",
      "item 1 is Bob\n",
      "item 2 is Charlie\n",
      "item 3 is Debbie\n"
     ]
    }
   ],
   "source": [
    "names = [\"Alice\", \"Bob\", \"Charlie\", \"Debbie\"]\n",
    "for i, name in enumerate(names):\n",
    "    print(f\"item {i} is {name}\")"
   ]
  },
  {
   "cell_type": "markdown",
   "metadata": {},
   "source": [
    "If you only need the item, and not the index you can just loop over the list directly, without `enumerate`."
   ]
  },
  {
   "cell_type": "code",
   "execution_count": 25,
   "metadata": {},
   "outputs": [
    {
     "name": "stdout",
     "output_type": "stream",
     "text": [
      "The name is Alice, Alice Bond\n",
      "The name is Bob, Bob Bond\n",
      "The name is Charlie, Charlie Bond\n",
      "The name is Debbie, Debbie Bond\n"
     ]
    }
   ],
   "source": [
    "for name in names:\n",
    "    print(f\"The name is {name}, {name} Bond\")"
   ]
  },
  {
   "cell_type": "markdown",
   "metadata": {},
   "source": [
    "If you only want the index, there are a few ways to do this, I prefer:"
   ]
  },
  {
   "cell_type": "code",
   "execution_count": 25,
   "metadata": {},
   "outputs": [
    {
     "name": "stdout",
     "output_type": "stream",
     "text": [
      "item 0\n",
      "item 1\n",
      "item 2\n",
      "item 3\n"
     ]
    }
   ],
   "source": [
    "for i, _ in enumerate(names):\n",
    "    print(f\"item {i}\")"
   ]
  },
  {
   "cell_type": "code",
   "execution_count": 53,
   "metadata": {},
   "outputs": [],
   "source": [
    "myDict = {\"exam1\": 95, \"exam2\": 99, \"participation\": 45}"
   ]
  },
  {
   "cell_type": "code",
   "execution_count": 54,
   "metadata": {},
   "outputs": [
    {
     "name": "stdout",
     "output_type": "stream",
     "text": [
      "key is exam1, and value is 95\n",
      "key is exam2, and value is 99\n",
      "key is participation, and value is 45\n"
     ]
    }
   ],
   "source": [
    "for key, val in myDict.items():\n",
    "    print(f\"key is {key}, and value is {val}\")"
   ]
  },
  {
   "cell_type": "markdown",
   "metadata": {},
   "source": [
    "A good example was brought up in class. How do you search a dictionary for values.\n",
    "\n",
    "If the dictionary is huge, something like the following is slow, by design. Dictionary are made to look key to value, not the reverse.\n"
   ]
  },
  {
   "cell_type": "code",
   "execution_count": 58,
   "metadata": {},
   "outputs": [
    {
     "name": "stdout",
     "output_type": "stream",
     "text": [
      "['exam1']\n"
     ]
    }
   ],
   "source": [
    "got95 = []\n",
    "for key, val in myDict.items():\n",
    "    if val == 95:\n",
    "        got95.append(key)\n",
    "print(got95)"
   ]
  },
  {
   "cell_type": "markdown",
   "metadata": {},
   "source": [
    "If you only do this once, it is no big deal. But if you have to look up keys by the values they point to, then it is best to rearrange the information into a more efficient format once and then use that.\n",
    "\n",
    "One way is to flip the dictionary, then search. But this only works if the values can each make unique keys."
   ]
  },
  {
   "cell_type": "code",
   "execution_count": 62,
   "metadata": {},
   "outputs": [
    {
     "data": {
      "text/plain": [
       "'exam1'"
      ]
     },
     "execution_count": 62,
     "metadata": {},
     "output_type": "execute_result"
    }
   ],
   "source": [
    "revDict = {val: key for key, val in myDict.items()}\n",
    "newDict[95]"
   ]
  },
  {
   "cell_type": "markdown",
   "metadata": {},
   "source": [
    "A more robust way is to reverse the values into lists of previous keys"
   ]
  },
  {
   "cell_type": "code",
   "execution_count": 63,
   "metadata": {},
   "outputs": [
    {
     "data": {
      "text/plain": [
       "['exam1', 'exam3']"
      ]
     },
     "execution_count": 63,
     "metadata": {},
     "output_type": "execute_result"
    }
   ],
   "source": [
    "myDict = {\"exam1\": 95, \"exam2\": 99, \"exam3\": 95, \"participation\": 45}\n",
    "revDict = {}\n",
    "for key, val in myDict.items():\n",
    "    if val not in revDict:\n",
    "        revDict[val] = [key]\n",
    "    else: \n",
    "        revDict[val].append(key)\n",
    "revDict[95]"
   ]
  },
  {
   "cell_type": "code",
   "execution_count": 64,
   "metadata": {},
   "outputs": [
    {
     "data": {
      "text/plain": [
       "{95: ['exam1', 'exam3'], 99: ['exam2'], 45: ['participation']}"
      ]
     },
     "execution_count": 64,
     "metadata": {},
     "output_type": "execute_result"
    }
   ],
   "source": [
    "revDict"
   ]
  },
  {
   "cell_type": "code",
   "execution_count": null,
   "metadata": {},
   "outputs": [],
   "source": []
  },
  {
   "cell_type": "code",
   "execution_count": null,
   "metadata": {},
   "outputs": [],
   "source": []
  }
 ],
 "metadata": {
  "kernelspec": {
   "display_name": "Python 3",
   "language": "python",
   "name": "python3"
  },
  "language_info": {
   "codemirror_mode": {
    "name": "ipython",
    "version": 3
   },
   "file_extension": ".py",
   "mimetype": "text/x-python",
   "name": "python",
   "nbconvert_exporter": "python",
   "pygments_lexer": "ipython3",
   "version": "3.7.3"
  }
 },
 "nbformat": 4,
 "nbformat_minor": 4
}
