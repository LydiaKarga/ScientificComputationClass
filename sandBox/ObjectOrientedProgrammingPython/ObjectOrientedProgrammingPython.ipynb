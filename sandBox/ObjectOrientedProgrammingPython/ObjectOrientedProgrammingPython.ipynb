{
 "cells": [
  {
   "cell_type": "markdown",
   "metadata": {},
   "source": [
    "---\n",
    "title: Objected Oriented Programming in Python\n",
    "author: Michael Colaresi\n",
    "\n",
    "---"
   ]
  },
  {
   "cell_type": "markdown",
   "metadata": {},
   "source": [
    "# Objects \n",
    "\n",
    "Object oriented programming (OOP) is a paradigm for how to talk to your computer. What you do is that you teach it concepts, classes of objects. You have already been doing a bit of this. Lists are classes of objects, etc; also known as types.\n",
    "\n",
    "Classes of objects are often related to each other, so we might have a class of an object, like a sentence object in a natural language processing project, but then there is a sub-type of that class, that specifically holds information on human rights, or rebel groups, for particular applications.\n",
    "\n",
    "Here I want to carefully walk through the examples given in DSFS. Classes have a number of different parts, but they are powerful tools for organizing your code, being able to re-use your hard work across projects, and clearly communicating your intentions to your future self and others.\n",
    "\n",
    "## Defining a class\n",
    "\n",
    "To get started, we **define** a class. This is like defining a function, but it more general. We are priming our python interpreter/computer to be able to understand a new concept we are going to teach it.\n",
    "\n",
    "The first thing to teach it is that you are a) going to be communicating a new concept (it can be related to other concepts) and b) what is the name of this concept.\n",
    "\n",
    "Unlike the book, I will incrementally build up the code, overwriting the `CountingClicker` object class each time"
   ]
  },
  {
   "cell_type": "code",
   "execution_count": 1,
   "metadata": {},
   "outputs": [],
   "source": [
    "class CountingClicker:\n",
    "    \"\"\"a class to track events\"\"\""
   ]
  },
  {
   "cell_type": "markdown",
   "metadata": {},
   "source": [
    "Here we used `class` to signal this is a new class of object we are teaching; and we named it `CountingClicker`. We also included a short docstring, but to let you know that this is the best practice.\n",
    "\n",
    "## methods\n",
    "\n",
    "A class is not really useful if it does not do anything. **Methods** are functions, also known as member functions, that belong to the class. They are functions that process information within the object. Examples should make this more clear.\n",
    "\n",
    "The first method that every object should have is a **constructor** method. This is how you construct **instances** of the object. This is a reallly crucial distinction. The class is just a **type** of object, it is not actually an instance of the object. A **list** is a n object `a = [1, 2,]` is an instance of a list.\n",
    "\n",
    "There are a number of conventions in constructors that are important. \n",
    "\n",
    "- First, you call the main constructor method `__init__` the syntax for methods is just like functions (in fact methods are just functions that are members of a certain class). The double underscores are actually important. This is known as a dunder (double under), and are known as special or magic in different corners of the Python-verse. What is important is that these methods are `private` or `non-public`. This communicates to users that they are not supposed to call these methods directly. They are going to be used by Python behind the scenes.  \n",
    "\n",
    "- Second, the first argument is `self` this will refer to the object itself and will allow us to use the `myObj.doSomething()` notation effectively.\n"
   ]
  },
  {
   "cell_type": "code",
   "execution_count": 12,
   "metadata": {},
   "outputs": [],
   "source": [
    "class CountingClicker:\n",
    "    \"\"\"a class to track events\"\"\"\n",
    "    def __init__(self, count=0):\n",
    "        self.count = count\n",
    "        "
   ]
  },
  {
   "cell_type": "markdown",
   "metadata": {},
   "source": [
    "Another `non-public` method is `__repr__` this is how python will represent the object when called directly (think about it like what it should say when you print out the object)."
   ]
  },
  {
   "cell_type": "code",
   "execution_count": 13,
   "metadata": {},
   "outputs": [],
   "source": [
    "class CountingClicker:\n",
    "    \"\"\"a class to track events\"\"\"\n",
    "    def __init__(self, count=0):\n",
    "        self.count = count\n",
    "    def __repr__(self):\n",
    "        return f\"CountingClicker(count={self.count})\""
   ]
  },
  {
   "cell_type": "markdown",
   "metadata": {},
   "source": [
    "## attributes\n",
    "\n",
    "Where **methods** are verbs for classes, attributes are nouns. They hold specific values. You can think about these as member variables. We already defined one attribute above `self.count = count`. This is how we instantiate the attributes of an object at first.\n",
    "\n",
    "`self.count` is also how we retrieve the value of the attribute in the `__repr__` method.\n",
    "\n",
    "Lets take a look at how we can create instances of our class so far and what we can do with them."
   ]
  },
  {
   "cell_type": "code",
   "execution_count": 24,
   "metadata": {},
   "outputs": [],
   "source": [
    "clicker = CountingClicker(count=0)"
   ]
  },
  {
   "cell_type": "markdown",
   "metadata": {},
   "source": [
    "## Instantiating an object instance\n",
    "\n",
    "The line above instantiates an instance of our `CountingClicker` class. Think of our `class CountingClicker` as a factory that can produce instances of type `CountingClicker`. The first object instance out of that factory is named `clicker`"
   ]
  },
  {
   "cell_type": "code",
   "execution_count": 25,
   "metadata": {},
   "outputs": [
    {
     "data": {
      "text/plain": [
       "__main__.CountingClicker"
      ]
     },
     "execution_count": 25,
     "metadata": {},
     "output_type": "execute_result"
    }
   ],
   "source": [
    "type(clicker)"
   ]
  },
  {
   "cell_type": "markdown",
   "metadata": {},
   "source": [
    "Checking the type, we can see that it is of type `CountingClicker`. The `__main__` is telling us the namespace/location of the name of the class. It is not in an imported module, like `pd` or something else we could import. It is in the main code we are running. \n",
    "\n",
    "We can see that the `__repr__` non-public method runs when we print the object itself"
   ]
  },
  {
   "cell_type": "code",
   "execution_count": 26,
   "metadata": {},
   "outputs": [
    {
     "name": "stdout",
     "output_type": "stream",
     "text": [
      "CountingClicker(count=0)\n"
     ]
    }
   ],
   "source": [
    "print(clicker)"
   ]
  },
  {
   "cell_type": "markdown",
   "metadata": {},
   "source": [
    "## Adding public methods\n",
    "\n",
    "We can add public methods simply by defining methods that do not start with dunders. Lets add a few:"
   ]
  },
  {
   "cell_type": "code",
   "execution_count": 29,
   "metadata": {},
   "outputs": [],
   "source": [
    "class CountingClicker:\n",
    "    \"\"\"a class to track events\"\"\"\n",
    "    #non-public methods\n",
    "    def __init__(self, count=0):\n",
    "        self.count = count\n",
    "    \n",
    "    def __repr__(self):\n",
    "        return f\"CountingClicker(count={self.count})\"\n",
    "    \n",
    "    #public methods\n",
    "    def click(self, num_times = 1):\n",
    "        \"\"\"Increment the clicker some num_times\"\"\"\n",
    "        self.count += num_times\n",
    "        \n",
    "    def read(self):\n",
    "        \"\"\"Print count\"\"\"\n",
    "        return self.count\n",
    "    \n",
    "    def reset(self):\n",
    "        \"\"\"count back to zer\"\"\"\n",
    "        self.count = 0"
   ]
  },
  {
   "cell_type": "markdown",
   "metadata": {},
   "source": [
    "Let's take some of these methods out for a test drive. We will need to re-create `clicker` because it was made by the old object factory."
   ]
  },
  {
   "cell_type": "code",
   "execution_count": 42,
   "metadata": {},
   "outputs": [],
   "source": [
    "clicker = CountingClicker()\n",
    "assert clicker.read() == 0, \"clicker should start with count 0\""
   ]
  },
  {
   "cell_type": "code",
   "execution_count": 43,
   "metadata": {},
   "outputs": [],
   "source": [
    "clicker.click()\n",
    "clicker.click()\n",
    "assert clicker.read() == 2, \"after two clicks, clicker should be at 2\""
   ]
  },
  {
   "cell_type": "code",
   "execution_count": 27,
   "metadata": {},
   "outputs": [],
   "source": [
    "clicker.reset()\n",
    "assert clicker.read() == 0, \"after reset, count should be back to 0\""
   ]
  },
  {
   "cell_type": "markdown",
   "metadata": {},
   "source": [
    "## subclasses\n",
    "\n",
    "These are not classes that go underwater, these are new ideas/concepts/classes that **inherit** the behavior of their parent class. They follow the pattern:\n",
    "\n",
    "```python\n",
    "class subClassObject(ParentObject):\n",
    "    \"\"\"docstring here\"\"\"\n",
    "    #will have all the same methods and attributes as the parent class without doing anything\n",
    "\n",
    "\n",
    "```\n",
    "\n",
    "This is just a place to start. For example we almost always want to make some change. The subclass exists because it either has added powers/attributes or is a special case of the parent object. For example, "
   ]
  },
  {
   "cell_type": "code",
   "execution_count": 44,
   "metadata": {},
   "outputs": [],
   "source": [
    "class NoResetClicker(CountingClicker):\n",
    "    \"\"\"inherits from Counting Clicker, but no reset available\"\"\"\n",
    "    def reset(self):\n",
    "        print(\"Nope\")\n",
    "        pass"
   ]
  },
  {
   "cell_type": "markdown",
   "metadata": {},
   "source": [
    "Here we made `NoResetClicker` a special case of CountingClicker. We just overwrote/turned off the reset method. `pass` just says do \n",
    "nothing and move on. \n",
    "\n",
    "We can test that this works:"
   ]
  },
  {
   "cell_type": "code",
   "execution_count": 47,
   "metadata": {},
   "outputs": [
    {
     "name": "stdout",
     "output_type": "stream",
     "text": [
      "1\n",
      "Nope\n"
     ]
    },
    {
     "data": {
      "text/plain": [
       "1"
      ]
     },
     "execution_count": 47,
     "metadata": {},
     "output_type": "execute_result"
    }
   ],
   "source": [
    "clicker2 = NoResetClicker()\n",
    "assert clicker2.read() == 0, \"init should be at 0\"\n",
    "clicker2.click()\n",
    "print(clicker2.count)\n",
    "clicker2.reset()\n",
    "assert clicker2.read() == 1, \"reset should not work on this subclass\"\n",
    "clicker2.count"
   ]
  },
  {
   "cell_type": "markdown",
   "metadata": {},
   "source": [
    "We can also extend the a class. Lets make a clicker that can fly."
   ]
  },
  {
   "cell_type": "code",
   "execution_count": 62,
   "metadata": {},
   "outputs": [],
   "source": [
    "class DuperClicker(CountingClicker):\n",
    "    \"\"\"This clicker can fly\"\"\"\n",
    "    def __init__(self, count=0, altitude=0):\n",
    "        super().__init__(count=0)\n",
    "        #addding altitude attribute\n",
    "        self.altitude = altitude\n",
    "    \n",
    "    # overwriting __repr__ method to who both attributes\n",
    "    def __repr__(self):\n",
    "        return f\"DuperClicker(count={self.count}, altitude={self.altitude})\"\n",
    "    \n",
    "    #new method to add to altitude\n",
    "    def fly(self, height=10):\n",
    "        self.altitude += height \n",
    "    \n",
    "    # update read to a dictionary\n",
    "    def read(self):\n",
    "        return {\"count\": self.count, \"altitude\": self.altitude}\n",
    "    "
   ]
  },
  {
   "cell_type": "code",
   "execution_count": 63,
   "metadata": {},
   "outputs": [],
   "source": [
    "clicker3 = DuperClicker()\n",
    "clicker3.fly()\n",
    "assert clicker3.altitude == 10, \"did it fly?\""
   ]
  },
  {
   "cell_type": "code",
   "execution_count": 64,
   "metadata": {},
   "outputs": [
    {
     "data": {
      "text/plain": [
       "DuperClicker(count=0, altitude=10)"
      ]
     },
     "execution_count": 64,
     "metadata": {},
     "output_type": "execute_result"
    }
   ],
   "source": [
    "clicker3"
   ]
  },
  {
   "cell_type": "code",
   "execution_count": 61,
   "metadata": {},
   "outputs": [
    {
     "data": {
      "text/plain": [
       "{'count': 0, 'altitude': 10}"
      ]
     },
     "execution_count": 61,
     "metadata": {},
     "output_type": "execute_result"
    }
   ],
   "source": [
    "clicker3.read()"
   ]
  },
  {
   "cell_type": "markdown",
   "metadata": {},
   "source": [
    "Notes that the `super()` calls the parent class. So `super().__init__()` calls the `__init__` method of `CountingClicker`, and then we add to it in the new `__init__` method."
   ]
  },
  {
   "cell_type": "markdown",
   "metadata": {},
   "source": [
    "## Another example\n",
    "\n",
    "Classes are especially useful for data that has contextual information and meta-data. For example, take a sentence from a political text. This sentence comes from a larger document, has a page, paragraph, and sentence number. It also might have other meta-data like sentiment or valence.\n",
    "\n",
    "We might have methods, for example to count the number of characters in the sentence.\n",
    "\n",
    "Lets implement that."
   ]
  },
  {
   "cell_type": "code",
   "execution_count": 67,
   "metadata": {},
   "outputs": [],
   "source": [
    "class Sentence:\n",
    "    \"\"\"a sentence object\"\"\"\n",
    "    def __init__(self, sent, doc, page, paragraph, sent_number=1):\n",
    "        self.sent = sent\n",
    "        self.doc = doc\n",
    "        self.page = page\n",
    "        self.paragraph = paragraph\n",
    "        self.sent_number = sent_number\n",
    "        self.char_length = None\n",
    "    \n",
    "    def __repr__(self):\n",
    "        return f\"Sentence({self.sent})\"\n",
    "    \n",
    "    def get_location(self):\n",
    "        \"\"\"organize location information from meta data\"\"\"\n",
    "        return (self.doc, self.page, self.paragraph, self.sent_number)\n",
    "    \n",
    "    def get_char_length(self):\n",
    "        return self.char_length\n",
    "    \n",
    "    def count_characters(self):\n",
    "        \"\"\"count characters in sent including white space and punctuation\"\"\"\n",
    "        self.char_length = len(self.sent)"
   ]
  },
  {
   "cell_type": "code",
   "execution_count": 68,
   "metadata": {},
   "outputs": [],
   "source": [
    "mySent = Sentence(sent = \"This class is ok\", doc = 1, page = 1, paragraph = 1)"
   ]
  },
  {
   "cell_type": "code",
   "execution_count": 100,
   "metadata": {},
   "outputs": [
    {
     "data": {
      "text/plain": [
       "Sentence(This class is ok)"
      ]
     },
     "execution_count": 100,
     "metadata": {},
     "output_type": "execute_result"
    }
   ],
   "source": [
    "mySent"
   ]
  },
  {
   "cell_type": "code",
   "execution_count": 101,
   "metadata": {},
   "outputs": [],
   "source": [
    "assert mySent.get_location() == (1, 1, 1, 1), \"location should be boring\""
   ]
  },
  {
   "cell_type": "code",
   "execution_count": 109,
   "metadata": {},
   "outputs": [],
   "source": [
    "mySent.count_characters()\n",
    "assert mySent.get_char_length() == 16, \"wrong\""
   ]
  },
  {
   "cell_type": "markdown",
   "metadata": {},
   "source": [
    "It is generally a good idea to have methods for retreiving values and/or resetting them so that it is clear why you are grabbing or replacing a value. In the above example, I have to `get_` methods implemented."
   ]
  },
  {
   "cell_type": "markdown",
   "metadata": {},
   "source": [
    "# Conclusion\n",
    "\n",
    "Classes are extremely useful for larger projects with many moving parts. They do take some organization/intellectual architecture that is not costless. Therefore it is possible to over-use classes. Often there are existing implementation that will do much of what you need. Such as pandas data frames. So do not re-invent `class wheel`. \n",
    "\n",
    "However, you may want to create a subclass of these objects to make explicit your assumptions. You can inherit/use pd.DataFrames as a parent, for example. \n",
    "\n",
    "Often the iterative nature of computational projects is\n",
    "\n",
    "step 1: writing code in sequence (no functions, no classes)\n",
    "\n",
    "step 2: writing up code that works into functions with tests (functions, not classes)\n",
    "\n",
    "step 3: as functions are being called, introducing classes and methods (functions, classes and thus methods)\n",
    "\n",
    "Make sure you see the `smoothie.py` example and the accompanying notebook that walks through step 1. "
   ]
  },
  {
   "cell_type": "code",
   "execution_count": null,
   "metadata": {},
   "outputs": [],
   "source": []
  }
 ],
 "metadata": {
  "kernelspec": {
   "display_name": "Python 3",
   "language": "python",
   "name": "python3"
  },
  "language_info": {
   "codemirror_mode": {
    "name": "ipython",
    "version": 3
   },
   "file_extension": ".py",
   "mimetype": "text/x-python",
   "name": "python",
   "nbconvert_exporter": "python",
   "pygments_lexer": "ipython3",
   "version": "3.7.3"
  }
 },
 "nbformat": 4,
 "nbformat_minor": 4
}
