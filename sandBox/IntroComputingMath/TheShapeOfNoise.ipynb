{
 "cells": [
  {
   "cell_type": "code",
   "execution_count": 2,
   "metadata": {},
   "outputs": [],
   "source": [
    "import numpy as np\n",
    "import matplotlib.pyplot as plt\n",
    "import scipy.stats as stats"
   ]
  },
  {
   "cell_type": "markdown",
   "metadata": {},
   "source": [
    "# The Shape of Noise\n",
    "\n",
    "In this notebook we are going to explore how to replicably generate random numbers using `numpy.random`.\n",
    "\n",
    "We are also going to explore how we can use uniformly distributed random numbers to generate other **shapes** of randomness, from probability density functions and probability mass functions.\n",
    "\n",
    "## Generate uniform random numbers\n",
    "\n",
    "It is important to remember that computers are not random. They follow orders. Therefore, we have to order them to be random, which is not easy.\n",
    "\n",
    "What happens is that the processes of the computer are used to simulate noise. This is really pseudo-noise, because the computer is using a pattern to create noise under the hood.\n",
    "\n",
    "Not surprisingly, the randomness is first generated as random bits. Then these bits can be transformed into numbers. \n",
    "\n",
    "As we will see below, the numbers can be transformed into distributions/shapes of noise.\n",
    "\n",
    "To get started we use the `np.random` submodule. The help page is [here](https://numpy.org/doc/stable/reference/random/index.html?highlight=random#module-numpy.random) and more details than I will get into are presented [here](https://numpy.org/neps/nep-0019-rng-policy.html).\n",
    "\n",
    "We do **not** create a list of random numbers. We do not know how many we will need for starters. Plus, this is hugely inefficient. \n",
    "\n",
    "Remember generators using lazy evaluation to create what you need when you need/call it. They `yield` values (like Pearl Jam's 5th album), they do not `return` (deleted geeky reference here). \n",
    "\n",
    "As a simple example, lets create a generator that "
   ]
  },
  {
   "cell_type": "code",
   "execution_count": 3,
   "metadata": {},
   "outputs": [
    {
     "data": {
      "text/plain": [
       "\u001b[0;31mType:\u001b[0m        module\n",
       "\u001b[0;31mString form:\u001b[0m <module 'numpy.random' from '/anaconda3/lib/python3.7/site-packages/numpy/random/__init__.py'>\n",
       "\u001b[0;31mFile:\u001b[0m        /anaconda3/lib/python3.7/site-packages/numpy/random/__init__.py\n",
       "\u001b[0;31mDocstring:\u001b[0m  \n",
       "========================\n",
       "Random Number Generation\n",
       "========================\n",
       "\n",
       "Use ``default_rng()`` to create a `Generator` and call its methods.\n",
       "\n",
       "=============== =========================================================\n",
       "Generator\n",
       "--------------- ---------------------------------------------------------\n",
       "Generator       Class implementing all of the random number distributions\n",
       "default_rng     Default constructor for ``Generator``\n",
       "=============== =========================================================\n",
       "\n",
       "============================================= ===\n",
       "BitGenerator Streams that work with Generator\n",
       "--------------------------------------------- ---\n",
       "MT19937\n",
       "PCG64\n",
       "Philox\n",
       "SFC64\n",
       "============================================= ===\n",
       "\n",
       "============================================= ===\n",
       "Getting entropy to initialize a BitGenerator\n",
       "--------------------------------------------- ---\n",
       "SeedSequence\n",
       "============================================= ===\n",
       "\n",
       "\n",
       "Legacy\n",
       "------\n",
       "\n",
       "For backwards compatibility with previous versions of numpy before 1.17, the\n",
       "various aliases to the global `RandomState` methods are left alone and do not\n",
       "use the new `Generator` API.\n",
       "\n",
       "==================== =========================================================\n",
       "Utility functions\n",
       "-------------------- ---------------------------------------------------------\n",
       "random               Uniformly distributed floats over ``[0, 1)``\n",
       "bytes                Uniformly distributed random bytes.\n",
       "permutation          Randomly permute a sequence / generate a random sequence.\n",
       "shuffle              Randomly permute a sequence in place.\n",
       "choice               Random sample from 1-D array.\n",
       "==================== =========================================================\n",
       "\n",
       "==================== =========================================================\n",
       "Compatibility\n",
       "functions - removed\n",
       "in the new API\n",
       "-------------------- ---------------------------------------------------------\n",
       "rand                 Uniformly distributed values.\n",
       "randn                Normally distributed values.\n",
       "ranf                 Uniformly distributed floating point numbers.\n",
       "random_integers      Uniformly distributed integers in a given range.\n",
       "                     (deprecated, use ``integers(..., closed=True)`` instead)\n",
       "random_sample        Alias for `random_sample`\n",
       "randint              Uniformly distributed integers in a given range\n",
       "seed                 Seed the legacy random number generator.\n",
       "==================== =========================================================\n",
       "\n",
       "==================== =========================================================\n",
       "Univariate\n",
       "distributions\n",
       "-------------------- ---------------------------------------------------------\n",
       "beta                 Beta distribution over ``[0, 1]``.\n",
       "binomial             Binomial distribution.\n",
       "chisquare            :math:`\\chi^2` distribution.\n",
       "exponential          Exponential distribution.\n",
       "f                    F (Fisher-Snedecor) distribution.\n",
       "gamma                Gamma distribution.\n",
       "geometric            Geometric distribution.\n",
       "gumbel               Gumbel distribution.\n",
       "hypergeometric       Hypergeometric distribution.\n",
       "laplace              Laplace distribution.\n",
       "logistic             Logistic distribution.\n",
       "lognormal            Log-normal distribution.\n",
       "logseries            Logarithmic series distribution.\n",
       "negative_binomial    Negative binomial distribution.\n",
       "noncentral_chisquare Non-central chi-square distribution.\n",
       "noncentral_f         Non-central F distribution.\n",
       "normal               Normal / Gaussian distribution.\n",
       "pareto               Pareto distribution.\n",
       "poisson              Poisson distribution.\n",
       "power                Power distribution.\n",
       "rayleigh             Rayleigh distribution.\n",
       "triangular           Triangular distribution.\n",
       "uniform              Uniform distribution.\n",
       "vonmises             Von Mises circular distribution.\n",
       "wald                 Wald (inverse Gaussian) distribution.\n",
       "weibull              Weibull distribution.\n",
       "zipf                 Zipf's distribution over ranked data.\n",
       "==================== =========================================================\n",
       "\n",
       "==================== ==========================================================\n",
       "Multivariate\n",
       "distributions\n",
       "-------------------- ----------------------------------------------------------\n",
       "dirichlet            Multivariate generalization of Beta distribution.\n",
       "multinomial          Multivariate generalization of the binomial distribution.\n",
       "multivariate_normal  Multivariate generalization of the normal distribution.\n",
       "==================== ==========================================================\n",
       "\n",
       "==================== =========================================================\n",
       "Standard\n",
       "distributions\n",
       "-------------------- ---------------------------------------------------------\n",
       "standard_cauchy      Standard Cauchy-Lorentz distribution.\n",
       "standard_exponential Standard exponential distribution.\n",
       "standard_gamma       Standard Gamma distribution.\n",
       "standard_normal      Standard normal distribution.\n",
       "standard_t           Standard Student's t-distribution.\n",
       "==================== =========================================================\n",
       "\n",
       "==================== =========================================================\n",
       "Internal functions\n",
       "-------------------- ---------------------------------------------------------\n",
       "get_state            Get tuple representing internal state of generator.\n",
       "set_state            Set state of generator.\n",
       "==================== =========================================================\n"
      ]
     },
     "metadata": {},
     "output_type": "display_data"
    }
   ],
   "source": []
  },
  {
   "cell_type": "code",
   "execution_count": 4,
   "metadata": {},
   "outputs": [
    {
     "data": {
      "text/plain": [
       "<generator object next_int at 0x1a25c00f48>"
      ]
     },
     "execution_count": 4,
     "metadata": {},
     "output_type": "execute_result"
    }
   ],
   "source": [
    "def next_int(start:int=0, max: int=10) -> int:\n",
    "    x = start\n",
    "    yield x\n",
    "    while x<max:\n",
    "        x += 1\n",
    "        yield x\n",
    "\n",
    "gen_int = next_int()\n",
    "gen_int"
   ]
  },
  {
   "cell_type": "markdown",
   "metadata": {},
   "source": [
    "We created a generator, `next_int` that has instructions on where to start, when to stop and how to yield.\n",
    "\n",
    "We then create a generator instance `gen_int`.\n",
    "\n",
    "We check that this instance is a generator, but the last line.\n",
    "\n",
    "Note we now call the generator with `next(generator_instance_here)`"
   ]
  },
  {
   "cell_type": "code",
   "execution_count": 5,
   "metadata": {},
   "outputs": [
    {
     "data": {
      "text/plain": [
       "0"
      ]
     },
     "execution_count": 5,
     "metadata": {},
     "output_type": "execute_result"
    }
   ],
   "source": [
    "next(gen_int)"
   ]
  },
  {
   "cell_type": "markdown",
   "metadata": {},
   "source": [
    "And we get the first output of yeild.\n",
    "\n",
    "A generator keeps track of where it is. So after the first yield, we enter a while loop.\n",
    "\n",
    "As long as that condition holds, there are directions of what to keep yielding.\n",
    "\n",
    "Lets cycle through the generator with a for loop (not do not do this unless you know there is a stoping rule, like what `x<max` does."
   ]
  },
  {
   "cell_type": "code",
   "execution_count": 6,
   "metadata": {},
   "outputs": [
    {
     "name": "stdout",
     "output_type": "stream",
     "text": [
      "1\n",
      "2\n",
      "3\n",
      "4\n",
      "5\n",
      "6\n",
      "7\n",
      "8\n",
      "9\n",
      "10\n"
     ]
    }
   ],
   "source": [
    "for item in gen_int:\n",
    "    print(item)"
   ]
  },
  {
   "cell_type": "markdown",
   "metadata": {},
   "source": [
    "Notice that we get `1` yielded next, because we already yielded `0` and the generator remembers its `state`, which is where it was. Once `x` reaches 9 we increment 1 more time to 10, then kick out of the while loop.\n",
    "\n",
    "If we try to run the iterator again with `next` we get an error."
   ]
  },
  {
   "cell_type": "code",
   "execution_count": 7,
   "metadata": {},
   "outputs": [
    {
     "ename": "StopIteration",
     "evalue": "",
     "output_type": "error",
     "traceback": [
      "\u001b[0;31m---------------------------------------------------------------------------\u001b[0m",
      "\u001b[0;31mStopIteration\u001b[0m                             Traceback (most recent call last)",
      "\u001b[0;32m<ipython-input-7-1cdc4173e378>\u001b[0m in \u001b[0;36m<module>\u001b[0;34m\u001b[0m\n\u001b[0;32m----> 1\u001b[0;31m \u001b[0mnext\u001b[0m\u001b[0;34m(\u001b[0m\u001b[0mgen_int\u001b[0m\u001b[0;34m)\u001b[0m\u001b[0;34m\u001b[0m\u001b[0;34m\u001b[0m\u001b[0m\n\u001b[0m",
      "\u001b[0;31mStopIteration\u001b[0m: "
     ]
    }
   ],
   "source": [
    "next(gen_int)"
   ]
  },
  {
   "cell_type": "markdown",
   "metadata": {},
   "source": [
    "If we try to pull more values out of the generator we get nothing, because there is nothing there."
   ]
  },
  {
   "cell_type": "code",
   "execution_count": 8,
   "metadata": {},
   "outputs": [],
   "source": [
    "for item in gen_int:\n",
    "    print(item)"
   ]
  },
  {
   "cell_type": "markdown",
   "metadata": {},
   "source": [
    "If we want more values we need to reinstantiate a new generator"
   ]
  },
  {
   "cell_type": "code",
   "execution_count": 9,
   "metadata": {},
   "outputs": [
    {
     "data": {
      "text/plain": [
       "<generator object next_int at 0x1a25ce5f48>"
      ]
     },
     "execution_count": 9,
     "metadata": {},
     "output_type": "execute_result"
    }
   ],
   "source": [
    "gen_int = next_int(start=11, max=20)\n",
    "gen_int"
   ]
  },
  {
   "cell_type": "markdown",
   "metadata": {},
   "source": [
    "Notice this generator despite having the same name points to a different address in memory.\n",
    "Then we can use this one"
   ]
  },
  {
   "cell_type": "code",
   "execution_count": 10,
   "metadata": {},
   "outputs": [
    {
     "name": "stdout",
     "output_type": "stream",
     "text": [
      "11\n",
      "12\n",
      "13\n",
      "14\n",
      "15\n",
      "16\n",
      "17\n",
      "18\n",
      "19\n",
      "20\n"
     ]
    }
   ],
   "source": [
    "for item in gen_int:\n",
    "    print(item)"
   ]
  },
  {
   "cell_type": "markdown",
   "metadata": {},
   "source": [
    "numpy has a generator factory ready for us in `np.random.default_rng`.\n",
    "\n",
    "This plays the same role as our `next_int` function.\n",
    "\n",
    "Lets get an instance of `np.random.default_rng` and print out that instances type"
   ]
  },
  {
   "cell_type": "code",
   "execution_count": 18,
   "metadata": {},
   "outputs": [
    {
     "data": {
      "text/plain": [
       "Generator(PCG64) at 0x1A25CE6228"
      ]
     },
     "execution_count": 18,
     "metadata": {},
     "output_type": "execute_result"
    }
   ],
   "source": [
    "my_rng = np.random.default_rng()\n",
    "my_rng\n"
   ]
  },
  {
   "cell_type": "markdown",
   "metadata": {},
   "source": [
    "Cool. It is a generator. `PCG64` is a family of random number generators that has some nice properties as compared [here](https://www.pcg-random.org).\n",
    "\n",
    "Our generator has the ability to produce name different types and shapes of randomness.\n",
    "\n",
    "First, lets use our generator to get 10 random floating point numbers draw that are uniformly drawn between 0 and 1. We can just use the \n",
    "`.random` method that comes with a `np.default_rng` instance"
   ]
  },
  {
   "cell_type": "code",
   "execution_count": 43,
   "metadata": {},
   "outputs": [
    {
     "data": {
      "text/plain": [
       "\u001b[0;31mDocstring:\u001b[0m\n",
       "random(size=None, dtype=np.float64, out=None)\n",
       "\n",
       "Return random floats in the half-open interval [0.0, 1.0).\n",
       "\n",
       "Results are from the \"continuous uniform\" distribution over the\n",
       "stated interval.  To sample :math:`Unif[a, b), b > a` multiply\n",
       "the output of `random` by `(b-a)` and add `a`::\n",
       "\n",
       "  (b - a) * random() + a\n",
       "\n",
       "Parameters\n",
       "----------\n",
       "size : int or tuple of ints, optional\n",
       "    Output shape.  If the given shape is, e.g., ``(m, n, k)``, then\n",
       "    ``m * n * k`` samples are drawn.  Default is None, in which case a\n",
       "    single value is returned.\n",
       "dtype : dtype, optional\n",
       "    Desired dtype of the result, only `float64` and `float32` are supported.\n",
       "    Byteorder must be native. The default value is np.float64.\n",
       "out : ndarray, optional\n",
       "    Alternative output array in which to place the result. If size is not None,\n",
       "    it must have the same shape as the provided size and must match the type of\n",
       "    the output values.\n",
       "\n",
       "Returns\n",
       "-------\n",
       "out : float or ndarray of floats\n",
       "    Array of random floats of shape `size` (unless ``size=None``, in which\n",
       "    case a single float is returned).\n",
       "\n",
       "Examples\n",
       "--------\n",
       ">>> rng = np.random.default_rng()\n",
       ">>> rng.random()\n",
       "0.47108547995356098 # random\n",
       ">>> type(rng.random())\n",
       "<class 'float'>\n",
       ">>> rng.random((5,))\n",
       "array([ 0.30220482,  0.86820401,  0.1654503 ,  0.11659149,  0.54323428]) # random\n",
       "\n",
       "Three-by-two array of random numbers from [-5, 0):\n",
       "\n",
       ">>> 5 * rng.random((3, 2)) - 5\n",
       "array([[-3.99149989, -0.52338984], # random\n",
       "       [-2.99091858, -0.79479508],\n",
       "       [-1.23204345, -1.75224494]])\n",
       "\u001b[0;31mType:\u001b[0m      builtin_function_or_method\n"
      ]
     },
     "metadata": {},
     "output_type": "display_data"
    }
   ],
   "source": [
    "?my_rng.random"
   ]
  },
  {
   "cell_type": "code",
   "execution_count": 33,
   "metadata": {},
   "outputs": [
    {
     "data": {
      "text/plain": [
       "array([0.43100737, 0.70939523, 0.67772566, 0.15133093, 0.95738318,\n",
       "       0.68591723, 0.67187836, 0.49241043, 0.72671798, 0.21260982])"
      ]
     },
     "execution_count": 33,
     "metadata": {},
     "output_type": "execute_result"
    }
   ],
   "source": [
    "VEC = my_rng.random(size=10)\n",
    "VEC"
   ]
  },
  {
   "cell_type": "markdown",
   "metadata": {},
   "source": [
    "Lets create a array to hold a 5 by 5 matrix of random values"
   ]
  },
  {
   "cell_type": "code",
   "execution_count": 34,
   "metadata": {},
   "outputs": [
    {
     "data": {
      "text/plain": [
       "array([[0.56591155, 0.13175631, 0.89133788, 0.75880821, 0.72481528],\n",
       "       [0.7300707 , 0.16613822, 0.25035666, 0.59631745, 0.87605502],\n",
       "       [0.49405022, 0.30871709, 0.29062143, 0.74743003, 0.92753219],\n",
       "       [0.63225473, 0.70333036, 0.82014821, 0.3179856 , 0.49112187],\n",
       "       [0.89227192, 0.3438128 , 0.3414703 , 0.5613205 , 0.78759429]])"
      ]
     },
     "execution_count": 34,
     "metadata": {},
     "output_type": "execute_result"
    }
   ],
   "source": [
    "X = my_rng.random(size=(5, 5))\n",
    "X"
   ]
  },
  {
   "cell_type": "markdown",
   "metadata": {},
   "source": [
    "## Digression: Size and shape of arrays\n",
    "\n",
    "The size parameter takes a tuple. It makes some sense to get to understand the language around numpy sizes and shapes.\n",
    "\n",
    "When you have the tuple `(5, 5)`, there are two `axes`. That is what the slots are called. For a matrix we think of the zeroth axis/slot as the rows and the first as the columns. This is important because we might want to aggregate/sum over one axis or another (or both). The axes are labeled with ints starting at 0 as you should come to expect in python.  \n",
    "\n",
    "The integer values in each axes tell us how many values there are across that axis. The zeroth `5` in `(5,5)` means there are 5 rows, and the next `5` means 5 columns.\n",
    "\n",
    "This notation is very general so you can have something like:"
   ]
  },
  {
   "cell_type": "code",
   "execution_count": 35,
   "metadata": {},
   "outputs": [
    {
     "data": {
      "text/plain": [
       "array([0.58936919, 0.07718465])"
      ]
     },
     "execution_count": 35,
     "metadata": {},
     "output_type": "execute_result"
    }
   ],
   "source": [
    "high_dim_array = my_rng.random(size=(3, 2, 2, 3, 2)) \n",
    "high_dim_array[1, 1, 1, 1]"
   ]
  },
  {
   "cell_type": "markdown",
   "metadata": {},
   "source": [
    "This is an array that has 5 axes, `(3, 2, 2, 3, 2)` `(0th, 1st, 2nd, 3rd, 4th)`\n",
    "With the size of each axes given by the int in that place"
   ]
  },
  {
   "cell_type": "markdown",
   "metadata": {},
   "source": [
    "## Back to randomness"
   ]
  },
  {
   "cell_type": "markdown",
   "metadata": {},
   "source": [
    "What if we want to be able to draw the same random number each time for replicability?\n",
    "\n",
    "Then we set a seed.\n",
    "\n",
    "This can be an int, hash, or string. The important part is that it tells the random number generator (rng) where to start. If you give it the same seed it can start at the same place.\n",
    "\n",
    "Note that this does not mean you will get the same numbers over and over again. You will get an almost limitless sequence of random numbers, but when you RESTART the generator, you can get the same sequence again.\n",
    "\n",
    "Best practices is to set a constant called SEED at the top of the script if you are not doing anything too fancy.\n",
    "\n",
    "Then pass that when you create your `default_rng` instance"
   ]
  },
  {
   "cell_type": "code",
   "execution_count": 36,
   "metadata": {},
   "outputs": [
    {
     "data": {
      "text/plain": [
       "Generator(PCG64) at 0x1A25CE66D8"
      ]
     },
     "execution_count": 36,
     "metadata": {},
     "output_type": "execute_result"
    }
   ],
   "source": [
    "SEED:int = 412412\n",
    "\n",
    "my_rng = np.random.default_rng(SEED)\n",
    "my_rng"
   ]
  },
  {
   "cell_type": "code",
   "execution_count": 37,
   "metadata": {},
   "outputs": [
    {
     "data": {
      "text/plain": [
       "array([0.46946503, 0.9751236 , 0.64094422, 0.60019698, 0.38586651])"
      ]
     },
     "execution_count": 37,
     "metadata": {},
     "output_type": "execute_result"
    }
   ],
   "source": [
    "my_rng.random(5)"
   ]
  },
  {
   "cell_type": "markdown",
   "metadata": {},
   "source": [
    "If we re-inialize the generator we can get the same numbers again"
   ]
  },
  {
   "cell_type": "code",
   "execution_count": 38,
   "metadata": {},
   "outputs": [
    {
     "data": {
      "text/plain": [
       "array([0.46946503, 0.9751236 , 0.64094422, 0.60019698, 0.38586651])"
      ]
     },
     "execution_count": 38,
     "metadata": {},
     "output_type": "execute_result"
    }
   ],
   "source": [
    "my_rng = np.random.default_rng(SEED)\n",
    "my_rng.random(5)"
   ]
  },
  {
   "cell_type": "markdown",
   "metadata": {},
   "source": [
    "There are some limitations to this.\n",
    "\n",
    "- Generating random numbers is difficult and actually depends on operating systems and even C implementations on a given OS. This is the best we can do right now. One way around this is sharing now only your code and SEED but the actual simulations you created. That way they can be verified by someone outside your lab.\n",
    "\n",
    "- If you are working with multiple processors, GPUs, and other complex parrelized computations, then you need to be careful about creating sets of seeds or functions that generate seeds. These are beyond the ken of this class, but come talk to me if you have questions or run into this. Usually, the software you are using (like PyStan) will have a guide for you."
   ]
  },
  {
   "cell_type": "markdown",
   "metadata": {},
   "source": [
    "## Beginning to control shapes\n",
    "\n",
    "Lets go through an example using the `.uniform` method, so that we are generating random nu"
   ]
  },
  {
   "cell_type": "code",
   "execution_count": 39,
   "metadata": {},
   "outputs": [
    {
     "data": {
      "text/plain": [
       "\u001b[0;31mDocstring:\u001b[0m\n",
       "uniform(low=0.0, high=1.0, size=None)\n",
       "\n",
       "Draw samples from a uniform distribution.\n",
       "\n",
       "Samples are uniformly distributed over the half-open interval\n",
       "``[low, high)`` (includes low, but excludes high).  In other words,\n",
       "any value within the given interval is equally likely to be drawn\n",
       "by `uniform`.\n",
       "\n",
       "Parameters\n",
       "----------\n",
       "low : float or array_like of floats, optional\n",
       "    Lower boundary of the output interval.  All values generated will be\n",
       "    greater than or equal to low.  The default value is 0.\n",
       "high : float or array_like of floats\n",
       "    Upper boundary of the output interval.  All values generated will be\n",
       "    less than high.  The default value is 1.0.\n",
       "size : int or tuple of ints, optional\n",
       "    Output shape.  If the given shape is, e.g., ``(m, n, k)``, then\n",
       "    ``m * n * k`` samples are drawn.  If size is ``None`` (default),\n",
       "    a single value is returned if ``low`` and ``high`` are both scalars.\n",
       "    Otherwise, ``np.broadcast(low, high).size`` samples are drawn.\n",
       "\n",
       "Returns\n",
       "-------\n",
       "out : ndarray or scalar\n",
       "    Drawn samples from the parameterized uniform distribution.\n",
       "\n",
       "See Also\n",
       "--------\n",
       "integers : Discrete uniform distribution, yielding integers.\n",
       "random : Floats uniformly distributed over ``[0, 1)``.\n",
       "\n",
       "Notes\n",
       "-----\n",
       "The probability density function of the uniform distribution is\n",
       "\n",
       ".. math:: p(x) = \\frac{1}{b - a}\n",
       "\n",
       "anywhere within the interval ``[a, b)``, and zero elsewhere.\n",
       "\n",
       "When ``high`` == ``low``, values of ``low`` will be returned.\n",
       "If ``high`` < ``low``, the results are officially undefined\n",
       "and may eventually raise an error, i.e. do not rely on this\n",
       "function to behave when passed arguments satisfying that\n",
       "inequality condition.\n",
       "\n",
       "Examples\n",
       "--------\n",
       "Draw samples from the distribution:\n",
       "\n",
       ">>> s = np.random.default_rng().uniform(-1,0,1000)\n",
       "\n",
       "All values are within the given interval:\n",
       "\n",
       ">>> np.all(s >= -1)\n",
       "True\n",
       ">>> np.all(s < 0)\n",
       "True\n",
       "\n",
       "Display the histogram of the samples, along with the\n",
       "probability density function:\n",
       "\n",
       ">>> import matplotlib.pyplot as plt\n",
       ">>> count, bins, ignored = plt.hist(s, 15, density=True)\n",
       ">>> plt.plot(bins, np.ones_like(bins), linewidth=2, color='r')\n",
       ">>> plt.show()\n",
       "\u001b[0;31mType:\u001b[0m      builtin_function_or_method\n"
      ]
     },
     "metadata": {},
     "output_type": "display_data"
    }
   ],
   "source": [
    "?my_rng.uniform"
   ]
  },
  {
   "cell_type": "code",
   "execution_count": 40,
   "metadata": {},
   "outputs": [
    {
     "data": {
      "text/plain": [
       "array([-0.35747348,  4.6471174 ,  0.42902349, -9.5252092 ,  5.39506683,\n",
       "       -4.48790046, -2.796751  ,  2.10042964,  0.80988518, -8.20913319])"
      ]
     },
     "execution_count": 40,
     "metadata": {},
     "output_type": "execute_result"
    }
   ],
   "source": [
    "VEC2 = my_rng.uniform(low=-10, high=10, size=10)\n",
    "VEC2"
   ]
  },
  {
   "cell_type": "markdown",
   "metadata": {},
   "source": [
    "## Generate Other Shapes of Noise\n",
    "\n",
    "We can think of the shapes in many different ways.\n",
    "\n",
    "The shape of an array"
   ]
  },
  {
   "cell_type": "code",
   "execution_count": 41,
   "metadata": {},
   "outputs": [
    {
     "data": {
      "text/plain": [
       "(10,)"
      ]
     },
     "execution_count": 41,
     "metadata": {},
     "output_type": "execute_result"
    }
   ],
   "source": [
    "VEC2.shape"
   ]
  },
  {
   "cell_type": "code",
   "execution_count": 42,
   "metadata": {},
   "outputs": [
    {
     "data": {
      "text/plain": [
       "(5, 5)"
      ]
     },
     "execution_count": 42,
     "metadata": {},
     "output_type": "execute_result"
    }
   ],
   "source": [
    "X.shape"
   ]
  },
  {
   "cell_type": "code",
   "execution_count": 43,
   "metadata": {},
   "outputs": [
    {
     "data": {
      "text/plain": [
       "(3, 2, 2, 3, 2)"
      ]
     },
     "execution_count": 43,
     "metadata": {},
     "output_type": "execute_result"
    }
   ],
   "source": [
    "high_dim_array.shape"
   ]
  },
  {
   "cell_type": "markdown",
   "metadata": {},
   "source": [
    "But we can also think of the shape of noise, randomness, entropy. In other ways, when we use a function, like a probability density function to channel randomness, we are creating a specific type of information. \n",
    "\n",
    "Why?\n",
    "\n",
    "- Distributions represent entropy and entropy represents information (specifically the absence of certainty)\n",
    "\n",
    "- Different distributions represent entropy and information in different ways\n",
    "\n",
    "So pdfs and pmfs provide a language for noise/randomness and structure to combine into inference.\n",
    "\n",
    "As a simple example, lets say that a theory assumes that a vector `y` is the sum of a constant mean, `mu` and `epsilon` which is normally distributed noise. If $\\epsilon \\sim  N(0, 1)$ for simplicity.\n",
    "\n",
    "The we have the equation\n",
    "$y = \\mu + \\epsilon$ \n",
    "\n",
    "And if $\\mu$ is just a constant in this simple example. Then the structure and the noise combine such that:\n",
    "\n",
    "$y \\sim N(\\mu, 1)$\n",
    "\n",
    "The noise and structure fit together in a state of information that can be summarized by a distribution. \n",
    "\n",
    "Thus we can generate values for this simple system with `my_rng.normal()`"
   ]
  },
  {
   "cell_type": "code",
   "execution_count": 45,
   "metadata": {},
   "outputs": [
    {
     "data": {
      "text/plain": [
       "\u001b[0;31mDocstring:\u001b[0m\n",
       "normal(loc=0.0, scale=1.0, size=None)\n",
       "\n",
       "Draw random samples from a normal (Gaussian) distribution.\n",
       "\n",
       "The probability density function of the normal distribution, first\n",
       "derived by De Moivre and 200 years later by both Gauss and Laplace\n",
       "independently [2]_, is often called the bell curve because of\n",
       "its characteristic shape (see the example below).\n",
       "\n",
       "The normal distributions occurs often in nature.  For example, it\n",
       "describes the commonly occurring distribution of samples influenced\n",
       "by a large number of tiny, random disturbances, each with its own\n",
       "unique distribution [2]_.\n",
       "\n",
       "Parameters\n",
       "----------\n",
       "loc : float or array_like of floats\n",
       "    Mean (\"centre\") of the distribution.\n",
       "scale : float or array_like of floats\n",
       "    Standard deviation (spread or \"width\") of the distribution. Must be\n",
       "    non-negative.\n",
       "size : int or tuple of ints, optional\n",
       "    Output shape.  If the given shape is, e.g., ``(m, n, k)``, then\n",
       "    ``m * n * k`` samples are drawn.  If size is ``None`` (default),\n",
       "    a single value is returned if ``loc`` and ``scale`` are both scalars.\n",
       "    Otherwise, ``np.broadcast(loc, scale).size`` samples are drawn.\n",
       "\n",
       "Returns\n",
       "-------\n",
       "out : ndarray or scalar\n",
       "    Drawn samples from the parameterized normal distribution.\n",
       "\n",
       "See Also\n",
       "--------\n",
       "scipy.stats.norm : probability density function, distribution or\n",
       "    cumulative density function, etc.\n",
       "\n",
       "Notes\n",
       "-----\n",
       "The probability density for the Gaussian distribution is\n",
       "\n",
       ".. math:: p(x) = \\frac{1}{\\sqrt{ 2 \\pi \\sigma^2 }}\n",
       "                 e^{ - \\frac{ (x - \\mu)^2 } {2 \\sigma^2} },\n",
       "\n",
       "where :math:`\\mu` is the mean and :math:`\\sigma` the standard\n",
       "deviation. The square of the standard deviation, :math:`\\sigma^2`,\n",
       "is called the variance.\n",
       "\n",
       "The function has its peak at the mean, and its \"spread\" increases with\n",
       "the standard deviation (the function reaches 0.607 times its maximum at\n",
       ":math:`x + \\sigma` and :math:`x - \\sigma` [2]_).  This implies that\n",
       ":meth:`normal` is more likely to return samples lying close to the\n",
       "mean, rather than those far away.\n",
       "\n",
       "References\n",
       "----------\n",
       ".. [1] Wikipedia, \"Normal distribution\",\n",
       "       https://en.wikipedia.org/wiki/Normal_distribution\n",
       ".. [2] P. R. Peebles Jr., \"Central Limit Theorem\" in \"Probability,\n",
       "       Random Variables and Random Signal Principles\", 4th ed., 2001,\n",
       "       pp. 51, 51, 125.\n",
       "\n",
       "Examples\n",
       "--------\n",
       "Draw samples from the distribution:\n",
       "\n",
       ">>> mu, sigma = 0, 0.1 # mean and standard deviation\n",
       ">>> s = np.random.default_rng().normal(mu, sigma, 1000)\n",
       "\n",
       "Verify the mean and the variance:\n",
       "\n",
       ">>> abs(mu - np.mean(s))\n",
       "0.0  # may vary\n",
       "\n",
       ">>> abs(sigma - np.std(s, ddof=1))\n",
       "0.1  # may vary\n",
       "\n",
       "Display the histogram of the samples, along with\n",
       "the probability density function:\n",
       "\n",
       ">>> import matplotlib.pyplot as plt\n",
       ">>> count, bins, ignored = plt.hist(s, 30, density=True)\n",
       ">>> plt.plot(bins, 1/(sigma * np.sqrt(2 * np.pi)) *\n",
       "...                np.exp( - (bins - mu)**2 / (2 * sigma**2) ),\n",
       "...          linewidth=2, color='r')\n",
       ">>> plt.show()\n",
       "\n",
       "Two-by-four array of samples from N(3, 6.25):\n",
       "\n",
       ">>> np.random.default_rng().normal(3, 2.5, size=(2, 4))\n",
       "array([[-4.49401501,  4.00950034, -1.81814867,  7.29718677],   # random\n",
       "       [ 0.39924804,  4.68456316,  4.99394529,  4.84057254]])  # random\n",
       "\u001b[0;31mType:\u001b[0m      builtin_function_or_method\n"
      ]
     },
     "metadata": {},
     "output_type": "display_data"
    }
   ],
   "source": [
    "?my_rng.normal"
   ]
  },
  {
   "cell_type": "markdown",
   "metadata": {},
   "source": [
    "Lets grab a vector of 10 simulated `y`s."
   ]
  },
  {
   "cell_type": "code",
   "execution_count": 46,
   "metadata": {},
   "outputs": [
    {
     "data": {
      "text/plain": [
       "array([3.94484709, 5.77180017, 3.98907213, 3.61434662, 4.81225606,\n",
       "       2.11220555, 3.63380809, 4.72397483, 4.0438166 , 3.38157878,\n",
       "       4.3255612 , 3.79957567, 3.31181112, 4.58676859, 2.48902   ,\n",
       "       3.87062911, 3.73457111, 4.1224885 , 3.89639345, 3.74170656,\n",
       "       3.11640609, 3.78010851, 4.36410997, 4.14828469, 4.76583168,\n",
       "       2.77310149, 5.51985192, 5.13608281, 3.89086034, 5.32275671,\n",
       "       5.97044665, 2.16684188, 6.46369449, 2.90105461, 3.41410472,\n",
       "       6.40033276, 3.49662246, 4.03617964, 3.94839211, 3.52241254,\n",
       "       4.23190343, 5.7608861 , 3.34334561, 5.38626937, 4.31816613,\n",
       "       2.36739798, 4.40553036, 5.15705577, 4.01943085, 3.29752227,\n",
       "       4.17498368, 5.38080568, 5.53898172, 5.08078779, 4.9338277 ,\n",
       "       3.83668943, 3.80524638, 5.22534328, 4.85610166, 4.28415548,\n",
       "       3.50635979, 3.97080907, 4.66489515, 3.80718557, 2.61262453,\n",
       "       4.35899693, 3.68133628, 4.66810167, 4.14256392, 3.7153275 ,\n",
       "       4.15834308, 5.27158494, 5.19623374, 5.25959233, 4.44659442,\n",
       "       3.86070771, 3.53878816, 4.44826128, 5.13516059, 6.0768127 ,\n",
       "       6.49709903, 3.33168301, 3.22658766, 4.1503331 , 4.49061084,\n",
       "       4.0737508 , 4.98813409, 5.7319094 , 4.04741528, 4.20274503,\n",
       "       3.94130094, 4.22119781, 0.91490129, 5.41641885, 4.83491936,\n",
       "       2.08850521, 3.16649915, 3.98792081, 5.07379725, 3.97081785])"
      ]
     },
     "execution_count": 46,
     "metadata": {},
     "output_type": "execute_result"
    }
   ],
   "source": [
    "mu = 4.2\n",
    "scale = 1. # std deviation \n",
    "y = my_rng.normal(loc=mu, scale=scale, size=100)\n",
    "y"
   ]
  },
  {
   "cell_type": "markdown",
   "metadata": {},
   "source": [
    "Let's take a look at both the normal pdf of each of the values we got (that will be stored in fit), and the histogram of the y's that we simulated."
   ]
  },
  {
   "cell_type": "code",
   "execution_count": 85,
   "metadata": {},
   "outputs": [
    {
     "data": {
      "text/plain": [
       "(array([0.01854016, 0.05562049, 0.05562049, 0.16686148, 0.20394181,\n",
       "        0.3708033 , 0.50058445, 0.22248198, 0.16686148, 0.09270082]),\n",
       " array([1.00328757, 1.5426571 , 2.08202663, 2.62139617, 3.1607657 ,\n",
       "        3.70013523, 4.23950476, 4.7788743 , 5.31824383, 5.85761336,\n",
       "        6.3969829 ]),\n",
       " <BarContainer object of 10 artists>)"
      ]
     },
     "execution_count": 85,
     "metadata": {},
     "output_type": "execute_result"
    },
    {
     "data": {
      "image/png": "[encoded data removed]",
      "text/plain": [
       "<Figure size 432x288 with 1 Axes>"
      ]
     },
     "metadata": {
      "needs_background": "light"
     },
     "output_type": "display_data"
    }
   ],
   "source": [
    "y_sorted = sorted(y)\n",
    "fit = stats.norm.pdf(y_sorted, mu, scale)  \n",
    "\n",
    "plt.plot(y_sorted,fit,'-o', color='green')\n",
    "plt.plot([i - mu for i in y_sorted],fit,'-o', color='red')\n",
    "plt.hist(y_sorted, density=True)      "
   ]
  },
  {
   "cell_type": "markdown",
   "metadata": {},
   "source": [
    "mu just shifted the noise to a new center. But this is non-trivial because it defines a new state of information/entropy. \n",
    "\n",
    "As we learn from data we combine assumptions (model!) with evidence (data!) to make inference (description of a state of information)."
   ]
  },
  {
   "cell_type": "markdown",
   "metadata": {},
   "source": [
    "If we up the number of draws we can get closer and closer to the normal pdf"
   ]
  },
  {
   "cell_type": "code",
   "execution_count": 86,
   "metadata": {},
   "outputs": [
    {
     "data": {
      "text/plain": [
       "(array([0.00316552, 0.01692866, 0.07748648, 0.2152555 , 0.35563953,\n",
       "        0.37132951, 0.22667891, 0.08657015, 0.0192684 , 0.00399131]),\n",
       " array([0.53168828, 1.25826668, 1.98484508, 2.71142349, 3.43800189,\n",
       "        4.1645803 , 4.8911587 , 5.61773711, 6.34431551, 7.07089391,\n",
       "        7.79747232]),\n",
       " <BarContainer object of 10 artists>)"
      ]
     },
     "execution_count": 86,
     "metadata": {},
     "output_type": "execute_result"
    },
    {
     "data": {
      "image/png": "[encoded data removed]",
      "text/plain": [
       "<Figure size 432x288 with 1 Axes>"
      ]
     },
     "metadata": {
      "needs_background": "light"
     },
     "output_type": "display_data"
    }
   ],
   "source": [
    "y = my_rng.normal(loc=mu, scale=scale, size=10000)\n",
    "y_sorted = sorted(y)\n",
    "fit = stats.norm.pdf(y_sorted, mu, scale)  \n",
    "\n",
    "plt.plot(y_sorted,fit,'-o', color='green')\n",
    "plt.plot([i - mu for i in y_sorted],fit,'-o', color='red')\n",
    "plt.hist(y_sorted, density=True,)   "
   ]
  },
  {
   "cell_type": "markdown",
   "metadata": {},
   "source": [
    "Try out the different distribution functions in scipy that are listed on pages 275-282 in SC:P3H4MJ\n",
    "\n",
    "Note that the discussion of generating numpy in the book still works but is frowned upon now as the way we walked through in this notebook leads to more random pseudo-random numbers."
   ]
  },
  {
   "cell_type": "code",
   "execution_count": null,
   "metadata": {},
   "outputs": [],
   "source": []
  }
 ],
 "metadata": {
  "kernelspec": {
   "display_name": "Python 3",
   "language": "python",
   "name": "python3"
  },
  "language_info": {
   "codemirror_mode": {
    "name": "ipython",
    "version": 3
   },
   "file_extension": ".py",
   "mimetype": "text/x-python",
   "name": "python",
   "nbconvert_exporter": "python",
   "pygments_lexer": "ipython3",
   "version": "3.7.3"
  }
 },
 "nbformat": 4,
 "nbformat_minor": 4
}
